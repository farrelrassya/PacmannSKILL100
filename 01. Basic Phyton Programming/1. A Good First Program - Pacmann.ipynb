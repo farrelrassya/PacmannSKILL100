{
  "nbformat": 4,
  "nbformat_minor": 0,
  "metadata": {
    "colab": {
      "provenance": []
    },
    "kernelspec": {
      "name": "python3",
      "display_name": "Python 3"
    },
    "language_info": {
      "name": "python"
    }
  },
  "cells": [
    {
      "cell_type": "markdown",
      "source": [
        "**HOW TO PRINT A TEXT**"
      ],
      "metadata": {
        "id": "jdXrYvanpqCE"
      }
    },
    {
      "cell_type": "code",
      "source": [
        "## PRINT(\"<TEKS YANG INGIN DITAMPILKAN>\")"
      ],
      "metadata": {
        "id": "v2wdu4MuqLPt"
      },
      "execution_count": null,
      "outputs": []
    },
    {
      "cell_type": "code",
      "source": [
        "print(\"Hello World\")"
      ],
      "metadata": {
        "colab": {
          "base_uri": "https://localhost:8080/"
        },
        "id": "-cVgaBlknnxe",
        "outputId": "50472a1b-3446-42d9-cdb6-98364723c557"
      },
      "execution_count": null,
      "outputs": [
        {
          "output_type": "stream",
          "name": "stdout",
          "text": [
            "Hello World\n"
          ]
        }
      ]
    },
    {
      "cell_type": "code",
      "source": [
        "print(\"Halo Dunia!\")"
      ],
      "metadata": {
        "colab": {
          "base_uri": "https://localhost:8080/"
        },
        "id": "UsOupVU2olNt",
        "outputId": "c59ab3e1-554e-48d8-d11f-1f13d5f3da16"
      },
      "execution_count": null,
      "outputs": [
        {
          "output_type": "stream",
          "name": "stdout",
          "text": [
            "Halo Dunia!\n"
          ]
        }
      ]
    },
    {
      "cell_type": "code",
      "source": [
        "print(\"Suryo Adi Gumelar\")"
      ],
      "metadata": {
        "colab": {
          "base_uri": "https://localhost:8080/"
        },
        "id": "CL0e2zoLpD2-",
        "outputId": "6854dd62-ef04-46a8-c94f-279d7847a53f"
      },
      "execution_count": null,
      "outputs": [
        {
          "output_type": "stream",
          "name": "stdout",
          "text": [
            "Suryo Adi Gumelar\n"
          ]
        }
      ]
    },
    {
      "cell_type": "code",
      "source": [
        "print(\"Saya suka belajar bahasa pemrograman Python\")"
      ],
      "metadata": {
        "colab": {
          "base_uri": "https://localhost:8080/"
        },
        "id": "uG8MM7GDpJwb",
        "outputId": "5c73f60e-35be-4dab-fe07-1587f2de1c78"
      },
      "execution_count": null,
      "outputs": [
        {
          "output_type": "stream",
          "name": "stdout",
          "text": [
            "Saya suka belajar bahasa pemrograman Python\n"
          ]
        }
      ]
    },
    {
      "cell_type": "code",
      "source": [
        "print(\"Saya sedang belajar melakukan print\")"
      ],
      "metadata": {
        "colab": {
          "base_uri": "https://localhost:8080/"
        },
        "id": "g0WrShahpjq6",
        "outputId": "b08e74ee-c5a3-4d86-ce20-a4320fb37462"
      },
      "execution_count": null,
      "outputs": [
        {
          "output_type": "stream",
          "name": "stdout",
          "text": [
            "Saya sedang belajar melakukan print\n"
          ]
        }
      ]
    },
    {
      "cell_type": "markdown",
      "source": [
        "**HOW TO PRINT A NUMBER**"
      ],
      "metadata": {
        "id": "eSSb2oV_pw7V"
      }
    },
    {
      "cell_type": "code",
      "source": [
        "## PRINT(\"<ANGKA YANG INGIN DITAMPILKAN>\")"
      ],
      "metadata": {
        "id": "IT25lLjcp1w6"
      },
      "execution_count": null,
      "outputs": []
    },
    {
      "cell_type": "code",
      "source": [
        "print(20)"
      ],
      "metadata": {
        "colab": {
          "base_uri": "https://localhost:8080/"
        },
        "id": "D1igdo5RqbLH",
        "outputId": "831c3df6-1088-4f00-b000-84e1d6c3b1a5"
      },
      "execution_count": null,
      "outputs": [
        {
          "output_type": "stream",
          "name": "stdout",
          "text": [
            "20\n"
          ]
        }
      ]
    },
    {
      "cell_type": "code",
      "source": [
        "print(100)"
      ],
      "metadata": {
        "colab": {
          "base_uri": "https://localhost:8080/"
        },
        "id": "yegNPqhiqgb6",
        "outputId": "6113e869-1b66-4103-d68a-17cb099495b0"
      },
      "execution_count": null,
      "outputs": [
        {
          "output_type": "stream",
          "name": "stdout",
          "text": [
            "100\n"
          ]
        }
      ]
    },
    {
      "cell_type": "code",
      "source": [
        "print(21.3)"
      ],
      "metadata": {
        "colab": {
          "base_uri": "https://localhost:8080/"
        },
        "id": "OwkMTEksqjXw",
        "outputId": "7328ba18-50e7-4c3d-a311-e69d42cc35cc"
      },
      "execution_count": null,
      "outputs": [
        {
          "output_type": "stream",
          "name": "stdout",
          "text": [
            "21.3\n"
          ]
        }
      ]
    },
    {
      "cell_type": "code",
      "source": [
        "print(100.3)"
      ],
      "metadata": {
        "colab": {
          "base_uri": "https://localhost:8080/"
        },
        "id": "fNhaB8B6q9q9",
        "outputId": "350790a7-4bb8-4da8-9013-943d2dd481f8"
      },
      "execution_count": null,
      "outputs": [
        {
          "output_type": "stream",
          "name": "stdout",
          "text": [
            "100.3\n"
          ]
        }
      ]
    },
    {
      "cell_type": "code",
      "source": [
        "print(18)"
      ],
      "metadata": {
        "colab": {
          "base_uri": "https://localhost:8080/"
        },
        "id": "ZyDlmOVnqsQ1",
        "outputId": "0f487ea1-f7b5-4bd4-8278-d6bb8ef781f4"
      },
      "execution_count": null,
      "outputs": [
        {
          "output_type": "stream",
          "name": "stdout",
          "text": [
            "18\n"
          ]
        }
      ]
    },
    {
      "cell_type": "code",
      "source": [
        "print(4)"
      ],
      "metadata": {
        "colab": {
          "base_uri": "https://localhost:8080/"
        },
        "id": "ewUUz5tTq6G2",
        "outputId": "5235f9ad-937f-4f98-cb16-6e0b5a3f6fc9"
      },
      "execution_count": null,
      "outputs": [
        {
          "output_type": "stream",
          "name": "stdout",
          "text": [
            "4\n"
          ]
        }
      ]
    },
    {
      "cell_type": "code",
      "source": [
        "print(20000)"
      ],
      "metadata": {
        "colab": {
          "base_uri": "https://localhost:8080/"
        },
        "id": "DMiE1v9YrGnI",
        "outputId": "372b8441-13e9-4167-b9f5-eb70145c8f1b"
      },
      "execution_count": null,
      "outputs": [
        {
          "output_type": "stream",
          "name": "stdout",
          "text": [
            "20000\n"
          ]
        }
      ]
    },
    {
      "cell_type": "markdown",
      "source": [
        "**VARIABLES**"
      ],
      "metadata": {
        "id": "hXAnHv0HrjSl"
      }
    },
    {
      "cell_type": "markdown",
      "source": [
        "\n",
        "\n",
        "*   Variabel adalah tempat untuk menyimpan suatu nilai/data\n",
        "\n",
        "*   nama_variabel = nilai\n",
        "*   Nilai dapat berupa teks/angka\n",
        "\n",
        "\n",
        "\n"
      ],
      "metadata": {
        "id": "0oKCv7RhS4lL"
      }
    },
    {
      "cell_type": "code",
      "source": [
        "angka1 = 2300423140384032842304923749237493794932842304239490131292304803285\n",
        "angka2 = 453567569798346532470935703495734571923749132\n",
        "\n",
        "jumlah = angka1 + angka2\n",
        "print(jumlah)"
      ],
      "metadata": {
        "colab": {
          "base_uri": "https://localhost:8080/"
        },
        "id": "fsG62bQTr2t1",
        "outputId": "7705f7f6-8333-4c95-93e2-bfa8afad17ed"
      },
      "execution_count": null,
      "outputs": [
        {
          "output_type": "stream",
          "name": "stdout",
          "text": [
            "2300423140384032842305377316807292141465313239942985865864228552417\n"
          ]
        }
      ]
    },
    {
      "cell_type": "code",
      "source": [
        "text = \"Saya sedang belajar membuat variabel\"\n",
        "print(text)"
      ],
      "metadata": {
        "colab": {
          "base_uri": "https://localhost:8080/"
        },
        "id": "Y687QIbzsyKx",
        "outputId": "18a92a15-025c-4170-caa0-4df08ba21abd"
      },
      "execution_count": null,
      "outputs": [
        {
          "output_type": "stream",
          "name": "stdout",
          "text": [
            "Saya sedang belajar membuat variabel\n"
          ]
        }
      ]
    },
    {
      "cell_type": "code",
      "source": [
        "Panjang = 5\n",
        "Lebar = 8\n",
        "Luas_PersegiPanjang = Panjang * Lebar\n",
        "print(Luas_PersegiPanjang)"
      ],
      "metadata": {
        "colab": {
          "base_uri": "https://localhost:8080/"
        },
        "id": "JVmCCyEftk59",
        "outputId": "7d7f05e8-14c7-4f53-f95c-9171eac31f63"
      },
      "execution_count": null,
      "outputs": [
        {
          "output_type": "stream",
          "name": "stdout",
          "text": [
            "40\n"
          ]
        }
      ]
    },
    {
      "cell_type": "code",
      "source": [
        "phi = 3.14\n",
        "r = 7\n",
        "Luas_Lingkaran = phi * r * r\n",
        "print(Luas_Lingkaran)"
      ],
      "metadata": {
        "colab": {
          "base_uri": "https://localhost:8080/"
        },
        "id": "tw1zvl-ZuksO",
        "outputId": "959842ed-abcd-4574-c101-f52bf34fd7ff"
      },
      "execution_count": null,
      "outputs": [
        {
          "output_type": "stream",
          "name": "stdout",
          "text": [
            "153.86\n"
          ]
        }
      ]
    },
    {
      "cell_type": "markdown",
      "source": [
        "**MORE PRINTING!**"
      ],
      "metadata": {
        "id": "3qTpTJZGxsgV"
      }
    },
    {
      "cell_type": "code",
      "source": [
        "## Printing variables"
      ],
      "metadata": {
        "id": "mOBVc-TLxyrA"
      },
      "execution_count": null,
      "outputs": []
    },
    {
      "cell_type": "code",
      "source": [
        "nama = \"Nama saya Cristiano Ronaldo\"\n",
        "print(nama)"
      ],
      "metadata": {
        "colab": {
          "base_uri": "https://localhost:8080/"
        },
        "id": "BIePcTMiyRAg",
        "outputId": "cd6d7e89-e78d-469f-cbc5-f3458bc59dda"
      },
      "execution_count": null,
      "outputs": [
        {
          "output_type": "stream",
          "name": "stdout",
          "text": [
            "Nama saya Cristiano Ronaldo\n"
          ]
        }
      ]
    },
    {
      "cell_type": "code",
      "source": [
        "## Printing with Formatting"
      ],
      "metadata": {
        "id": "JSWpJwKmyeX9"
      },
      "execution_count": null,
      "outputs": []
    },
    {
      "cell_type": "code",
      "source": [
        "## Percent formatting\n",
        "\n",
        "text2 = \"Lionel Messi\"\n",
        "print(\"Hello, my name is %s\" % text2)"
      ],
      "metadata": {
        "colab": {
          "base_uri": "https://localhost:8080/"
        },
        "id": "uTTSguK9zVWr",
        "outputId": "76e1febd-54fe-42f1-a2e7-f195e8e7ccdb"
      },
      "execution_count": null,
      "outputs": [
        {
          "output_type": "stream",
          "name": "stdout",
          "text": [
            "Hello, my name is Lionel Messi\n"
          ]
        }
      ]
    },
    {
      "cell_type": "code",
      "source": [
        "jumlah_apel = 3\n",
        "print(\"Jumlah buah apel ada %d\" % jumlah_apel)"
      ],
      "metadata": {
        "colab": {
          "base_uri": "https://localhost:8080/"
        },
        "id": "XwjnhePRzY7N",
        "outputId": "fbc19cec-ba26-4e22-b48a-e64cfb1cf1bc"
      },
      "execution_count": null,
      "outputs": [
        {
          "output_type": "stream",
          "name": "stdout",
          "text": [
            "Jumlah buah apel ada 3\n"
          ]
        }
      ]
    },
    {
      "cell_type": "code",
      "source": [
        "Nama_saya = \"Suryo\"\n",
        "Umur = 26\n",
        "print(\"Halo, nama saya %s. Umur saya %d tahun.\" % (Nama_saya, Umur))"
      ],
      "metadata": {
        "colab": {
          "base_uri": "https://localhost:8080/"
        },
        "id": "H1vu4uxA0c38",
        "outputId": "7c4649ea-acd8-4041-a6eb-c2c1df3befd5"
      },
      "execution_count": null,
      "outputs": [
        {
          "output_type": "stream",
          "name": "stdout",
          "text": [
            "Halo, nama saya Suryo. Umur saya 26 tahun.\n"
          ]
        }
      ]
    },
    {
      "cell_type": "code",
      "source": [
        "Name = \"Antony\"\n",
        "Goals = 100\n",
        "Assists = 120\n",
        "print(\"%s has scored %d goals and %d assists so far\" % (Name, Goals, Assists))"
      ],
      "metadata": {
        "colab": {
          "base_uri": "https://localhost:8080/"
        },
        "id": "2DceFD6M2ghf",
        "outputId": "0357e2c8-6c82-4f44-ee7b-2e2831bbd842"
      },
      "execution_count": null,
      "outputs": [
        {
          "output_type": "stream",
          "name": "stdout",
          "text": [
            "Antony has scored 100 goals and 120 assists so far\n"
          ]
        }
      ]
    },
    {
      "cell_type": "code",
      "source": [
        "## F-String formatting"
      ],
      "metadata": {
        "id": "6AiOJyf42_Qx"
      },
      "execution_count": null,
      "outputs": []
    },
    {
      "cell_type": "code",
      "source": [
        "## print(f\"ini adalah contohnya {NAMA_VAR}\")"
      ],
      "metadata": {
        "id": "0AAc5cu53I6T"
      },
      "execution_count": null,
      "outputs": []
    },
    {
      "cell_type": "code",
      "source": [
        "Namaku = \"Budi\"\n",
        "Umurku = 25\n",
        "\n",
        "#Percent Formatting\n",
        "print(\"Halo namaku %s. Umurku %d tahun.\" % (Namaku, Umurku))\n",
        "\n",
        "#F-String Formatting\n",
        "print(f\"Halo namaku {Namaku}. Umurku {Umurku} tahun.\")"
      ],
      "metadata": {
        "colab": {
          "base_uri": "https://localhost:8080/"
        },
        "id": "CMO_6y1v3YA1",
        "outputId": "552b193e-2f44-4a18-ac17-2af878d70ecb"
      },
      "execution_count": null,
      "outputs": [
        {
          "output_type": "stream",
          "name": "stdout",
          "text": [
            "Halo namaku Budi. Umurku 25 tahun.\n",
            "Halo namaku Budi. Umurku 25 tahun.\n"
          ]
        }
      ]
    },
    {
      "cell_type": "code",
      "source": [
        "ayam = 15000\n",
        "beras = 50000\n",
        "bumbu = 10000\n",
        "total = 75000\n",
        "print(f\"Ibu berbelanja ayam dengan harga {ayam}, beras dengan harga {beras}, dan bumbu dengan harga {bumbu}. Total harga belanja ibu adalah {total}.\")"
      ],
      "metadata": {
        "colab": {
          "base_uri": "https://localhost:8080/"
        },
        "id": "bAzLcruX4XMe",
        "outputId": "a5c8cb84-cbce-447b-8016-ffa7a1653170"
      },
      "execution_count": null,
      "outputs": [
        {
          "output_type": "stream",
          "name": "stdout",
          "text": [
            "Ibu berbelanja ayam dengan harga 15000, beras dengan harga 50000, dan bumbu dengan harga 10000. Total harga belanja ibu adalah 75000.\n"
          ]
        }
      ]
    },
    {
      "cell_type": "markdown",
      "source": [
        "**COMMENTING**"
      ],
      "metadata": {
        "id": "rMa9cjgrSGtz"
      }
    },
    {
      "cell_type": "markdown",
      "source": [
        "\n",
        "\n",
        "*   Commenting merupakan sebuah komentar yang digunakan untuk memperjelas maksud dari sebuah proses ataupun sebuah perintah.\n",
        "*   Apabila dijalankan commenting tidak akan melakukan eksekusi apapun.\n",
        "*   Commenting diperlukan untuk mempermudah kita mengerti suatu program.\n",
        "*   Commenting juga akan mempermudah orang lain yang hendak membaca program kita kelak.\n",
        "\n",
        "\n",
        "\n"
      ],
      "metadata": {
        "id": "yDfKe9uNSNay"
      }
    },
    {
      "cell_type": "markdown",
      "source": [
        "Contoh"
      ],
      "metadata": {
        "id": "Ruo4BojlTeLK"
      }
    },
    {
      "cell_type": "code",
      "source": [
        "print ('Hello World!') # Komentar ini juga diawali dengan tanda pagar (#)\n",
        "print ('Hello World!') # Digunakan di dalam satu baris yang sama dengan perintahnya\n",
        "\n",
        "# Baris ini untuk mencari profit dari produk, dengan cara revenue dikurangi modal\n",
        "profit = revenue - modal\n",
        "\n",
        "# Selanjutnya tampilkan nilai profit yang didapat\n",
        "print(profit)"
      ],
      "metadata": {
        "id": "T_O62ul9Sfpi"
      },
      "execution_count": null,
      "outputs": []
    },
    {
      "cell_type": "markdown",
      "source": [
        "To comment multiple lines: (Ctrl + A) then (Ctrl + /)\n",
        "or\n",
        "using triple quotes (''')"
      ],
      "metadata": {
        "id": "sEuAB3XlVKOu"
      }
    },
    {
      "cell_type": "code",
      "source": [
        "# import pandas as pd\n",
        "# from sklearn import model_selection\n",
        "\n",
        "# df = pd.read_csv(\"train.csv\")\n",
        "# df[\"kfold\"] = -1\n",
        "# df = df.sample(frac=1).reset_index(drop=True)\n",
        "# kf = model_selection.KFold(n_splits=5)\n",
        "\n",
        "\n",
        "# for fold, (trn_, val_) in enumerate(kf.split(X=df)):\n",
        "#     df.loc[val_, 'kfold'] = fold\n",
        "\n",
        "# df.to_csv(\"train_folds.csv\", index=False)"
      ],
      "metadata": {
        "id": "qPZeYj5zUwyN"
      },
      "execution_count": null,
      "outputs": []
    },
    {
      "cell_type": "markdown",
      "source": [
        "**ERROR IN PYTHON**"
      ],
      "metadata": {
        "id": "YHrT6CTGceXV"
      }
    },
    {
      "cell_type": "markdown",
      "source": [
        "**Error and How to solve**\n",
        "\n",
        "Pada sesi ini, kita akan belajar mengenai error dan bagaimana cara mengatasinya.\n",
        "Error merupakan hal yang wajar ditemui saat sedang membuat sebuah pemrograman.\n",
        "Melalui error jugalah kita semakin banyak belajar dan semakin memahami code yang telah kita buat.\n",
        "Ketika mendapati suatu error, ada beberapa langkah yang dapat kita lakukan untuk dapat mengatasinya, yaitu:\n",
        "\n",
        "Perhatikan error outputnya\n",
        "Cobalah untuk googling mengenai error tersebut\n",
        "Kemudian cobalah code yang telah digoogling sebelumnya\n",
        "Apabila masih belum solve, cobalah untuk googling kembali\n",
        "Ada beberapa jenis error yang sering dialami, yakni:\n",
        "\n",
        "*   Syntax Error\n",
        "*   Indentation Error\n",
        "*   Name Error"
      ],
      "metadata": {
        "id": "qdLpt7zelAcw"
      }
    }
  ]
}