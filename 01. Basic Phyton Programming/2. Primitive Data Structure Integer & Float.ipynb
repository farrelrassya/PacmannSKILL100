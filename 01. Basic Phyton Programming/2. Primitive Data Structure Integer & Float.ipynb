{
  "nbformat": 4,
  "nbformat_minor": 0,
  "metadata": {
    "colab": {
      "provenance": [],
      "authorship_tag": "ABX9TyOfmBYuCPP6+zWBKpQRwLS6",
      "include_colab_link": true
    },
    "kernelspec": {
      "name": "python3",
      "display_name": "Python 3"
    },
    "language_info": {
      "name": "python"
    }
  },
  "cells": [
    {
      "cell_type": "markdown",
      "metadata": {
        "id": "view-in-github",
        "colab_type": "text"
      },
      "source": [
        "<a href=\"https://colab.research.google.com/github/pecelgodongjati/PacmannSKILL100/blob/main/01.%20Basic%20Phyton%20Programming/2.%20Primitive%20Data%20Structure%20Integer%20%26%20Float.ipynb\" target=\"_parent\"><img src=\"https://colab.research.google.com/assets/colab-badge.svg\" alt=\"Open In Colab\"/></a>"
      ]
    },
    {
      "cell_type": "markdown",
      "source": [
        "**PRIMITIVE DATA STRUCTURE**\n",
        "\n",
        "Struktur data adalah cara mengatur dan menyimpan data sehingga dapat diakses dan diolah dengan efisien. Ada dua jenis struktur data pada Python yaitu primitive data structure dan non-primitive data structure. Pada kesempatan kali ini kita akan membahas primitive data structure\n",
        "\n",
        "Secara umum, Python memiliki empat struktur data primitif\n",
        "\n",
        "- Integer\n",
        "- Float\n",
        "- String\n",
        "- Boolean (akan dibahas pada pertemuan selanjutnya)\n",
        "\n",
        "Kenapa dinamakan primitif, karena berisi nilai data yang murni dan sederhana."
      ],
      "metadata": {
        "id": "aTJD2iXD4AAO"
      }
    },
    {
      "cell_type": "markdown",
      "source": [
        "**Integer**"
      ],
      "metadata": {
        "id": "DZVcS0Gj4NyK"
      }
    },
    {
      "cell_type": "markdown",
      "source": [
        "Integer mewakilkan bilangan bulat dari negatif hingga positif, contohnya -3, -2, 3, 4, dst.\n",
        "\n",
        "Semisal, kita akan mencoba melakukan print angka 1"
      ],
      "metadata": {
        "id": "PvfQDWnN4Qyd"
      }
    },
    {
      "cell_type": "code",
      "source": [
        "print(1)"
      ],
      "metadata": {
        "colab": {
          "base_uri": "https://localhost:8080/"
        },
        "id": "uRwQiH684c1v",
        "outputId": "48290388-b558-4fe0-8efe-354efff19375"
      },
      "execution_count": null,
      "outputs": [
        {
          "output_type": "stream",
          "name": "stdout",
          "text": [
            "1\n"
          ]
        }
      ]
    },
    {
      "cell_type": "markdown",
      "source": [
        "Untuk mengetahui tipe data sebuah karakter di cek dengan cara\n",
        "\n",
        "**type**(VALUE)"
      ],
      "metadata": {
        "id": "IqcX7o_J4aCX"
      }
    },
    {
      "cell_type": "code",
      "source": [
        "print(type(6))"
      ],
      "metadata": {
        "colab": {
          "base_uri": "https://localhost:8080/"
        },
        "id": "kIXtEOJY4mF_",
        "outputId": "0df6c807-71f0-4850-8680-f70afe5656ee"
      },
      "execution_count": null,
      "outputs": [
        {
          "output_type": "stream",
          "name": "stdout",
          "text": [
            "<class 'int'>\n"
          ]
        }
      ]
    },
    {
      "cell_type": "markdown",
      "source": [
        "Kita juga bisa mengetahui tipe data dari sebuah variabel dengan cara\n",
        "\n",
        "**type**(NAMA_VAR)"
      ],
      "metadata": {
        "id": "t9ldffJR42ZT"
      }
    },
    {
      "cell_type": "code",
      "source": [
        "int_1 = 1\n",
        "print(type(int_1))"
      ],
      "metadata": {
        "colab": {
          "base_uri": "https://localhost:8080/"
        },
        "id": "s2lG-lkE48qC",
        "outputId": "9a9db80b-eb71-44ca-8362-14166eaf7b84"
      },
      "execution_count": null,
      "outputs": [
        {
          "output_type": "stream",
          "name": "stdout",
          "text": [
            "<class 'int'>\n"
          ]
        }
      ]
    },
    {
      "cell_type": "code",
      "source": [
        "integer = 1000000\n",
        "print(integer)\n",
        "print(type(integer))"
      ],
      "metadata": {
        "colab": {
          "base_uri": "https://localhost:8080/"
        },
        "id": "yCe22k4f5F4X",
        "outputId": "3701c52b-53a8-488f-f67a-f135b7b343c4"
      },
      "execution_count": null,
      "outputs": [
        {
          "output_type": "stream",
          "name": "stdout",
          "text": [
            "1000000\n",
            "<class 'int'>\n"
          ]
        }
      ]
    },
    {
      "cell_type": "code",
      "source": [
        "angka = 8\n",
        "type(angka)"
      ],
      "metadata": {
        "colab": {
          "base_uri": "https://localhost:8080/"
        },
        "id": "M--q2b-G7RYm",
        "outputId": "fb70aba6-686d-4c78-8d26-440f4ef273b6"
      },
      "execution_count": null,
      "outputs": [
        {
          "output_type": "execute_result",
          "data": {
            "text/plain": [
              "int"
            ]
          },
          "metadata": {},
          "execution_count": 6
        }
      ]
    },
    {
      "cell_type": "markdown",
      "source": [
        "**Float**"
      ],
      "metadata": {
        "id": "I7grU5TZ72GR"
      }
    },
    {
      "cell_type": "markdown",
      "source": [
        "Float adalah singkatan dari floating poin number. Float mewakilkan bilangan rasional yang biasanya diakhiri dengan angka desimal, seperti 2.5, 3.14, 10.5 dsb.\n",
        "\n",
        "Semisal, kita akan mencoba melakukan print angka 3.14\n",
        "\n",
        "Untuk desimal di Python menggunakan titik (.), bukan koma (,) sebagai pemisahnya"
      ],
      "metadata": {
        "id": "GIpO0NFE73tZ"
      }
    },
    {
      "cell_type": "code",
      "source": [
        "print(3.14)"
      ],
      "metadata": {
        "colab": {
          "base_uri": "https://localhost:8080/"
        },
        "id": "eI8UUHNl8F9R",
        "outputId": "a6397ae9-98da-40d6-9d89-5f95ac115317"
      },
      "execution_count": null,
      "outputs": [
        {
          "output_type": "stream",
          "name": "stdout",
          "text": [
            "3.14\n"
          ]
        }
      ]
    },
    {
      "cell_type": "code",
      "source": [
        "print(type(3.14))"
      ],
      "metadata": {
        "colab": {
          "base_uri": "https://localhost:8080/"
        },
        "id": "SB6A8gNP8LSB",
        "outputId": "4ba2e912-a63e-4c71-d151-ac1fdf613295"
      },
      "execution_count": null,
      "outputs": [
        {
          "output_type": "stream",
          "name": "stdout",
          "text": [
            "<class 'float'>\n"
          ]
        }
      ]
    },
    {
      "cell_type": "code",
      "source": [
        "phi = 3.14\n",
        "print(phi)\n",
        "print(type(phi))"
      ],
      "metadata": {
        "colab": {
          "base_uri": "https://localhost:8080/"
        },
        "id": "ntRpfHZP8Q74",
        "outputId": "001a2778-787c-4c1f-9c9f-1d9625f75b03"
      },
      "execution_count": null,
      "outputs": [
        {
          "output_type": "stream",
          "name": "stdout",
          "text": [
            "3.14\n",
            "<class 'float'>\n"
          ]
        }
      ]
    },
    {
      "cell_type": "code",
      "source": [
        "angka_2 = 87532.840\n",
        "print(angka_2)\n",
        "print(type(angka_2))"
      ],
      "metadata": {
        "colab": {
          "base_uri": "https://localhost:8080/"
        },
        "id": "pbJ0HpIT8drT",
        "outputId": "774c878f-0c60-48fe-f43a-87f656e58940"
      },
      "execution_count": null,
      "outputs": [
        {
          "output_type": "stream",
          "name": "stdout",
          "text": [
            "87532.84\n",
            "<class 'float'>\n"
          ]
        }
      ]
    },
    {
      "cell_type": "markdown",
      "source": [
        "**Operasi Matematika Pada Python**"
      ],
      "metadata": {
        "id": "KzLe1VP-8xRb"
      }
    },
    {
      "cell_type": "markdown",
      "source": [
        "Operator adalah simbol khusus yang mewakili perhitungan seperti penambahan dan pengurangan.![sadfasd.JPG](data:image/jpeg;base64,/9j/4AAQSkZJRgABAQEAkACQAAD/4QLgRXhpZgAATU0AKgAAAAgABAE7AAIAAAAHAAABSodpAAQAAAABAAABUpydAAEAAAAOAAACyuocAAcAAAEMAAAAPgAAAAAc6gAAAAEAAAAAAAAAAAAAAAAAAAAAAAAAAAAAAAAAAAAAAAAAAAAAAAAAAAAAAAAAAAAAAAAAAAAAAAAAAAAAAAAAAAAAAAAAAAAAAAAAAAAAAAAAAAAAAAAAAAAAAAAAAAAAAAAAAAAAAAAAAAAAAAAAAAAAAAAAAAAAAAAAAAAAAAAAAAAAAAAAAAAAAAAAAAAAAAAAAAAAAAAAAAAAAAAAAAAAAAAAAAAAAAAAAAAAAAAAAAAAAAAAAAAAAAAAAAAAAAAAAAAAAAAAAAAAAAAAAAAAAAAAAAAAAAAAAAAAAAAAAAAAAAAAAAAAAAAAAAAAAAAAAAAAAAAAAAAAAAAAAAAAAAAAAAAATEVOT1ZPAAAABZADAAIAAAAUAAACoJAEAAIAAAAUAAACtJKRAAIAAAADNzAAAJKSAAIAAAADNzAAAOocAAcAAAEMAAABlAAAAAAc6gAAAAEAAAAAAAAAAAAAAAAAAAAAAAAAAAAAAAAAAAAAAAAAAAAAAAAAAAAAAAAAAAAAAAAAAAAAAAAAAAAAAAAAAAAAAAAAAAAAAAAAAAAAAAAAAAAAAAAAAAAAAAAAAAAAAAAAAAAAAAAAAAAAAAAAAAAAAAAAAAAAAAAAAAAAAAAAAAAAAAAAAAAAAAAAAAAAAAAAAAAAAAAAAAAAAAAAAAAAAAAAAAAAAAAAAAAAAAAAAAAAAAAAAAAAAAAAAAAAAAAAAAAAAAAAAAAAAAAAAAAAAAAAAAAAAAAAAAAAAAAAAAAAAAAAAAAAAAAAAAAAAAAAAAAAAAAAAAAAAAAAAAAAAAAAAAAAMjAyNDoxMjoxOSAxNTowNTo1MwAyMDI0OjEyOjE5IDE1OjA1OjUzAAAATABFAE4ATwBWAE8AAAD/4QQZaHR0cDovL25zLmFkb2JlLmNvbS94YXAvMS4wLwA8P3hwYWNrZXQgYmVnaW49J++7vycgaWQ9J1c1TTBNcENlaGlIenJlU3pOVGN6a2M5ZCc/Pg0KPHg6eG1wbWV0YSB4bWxuczp4PSJhZG9iZTpuczptZXRhLyI+PHJkZjpSREYgeG1sbnM6cmRmPSJodHRwOi8vd3d3LnczLm9yZy8xOTk5LzAyLzIyLXJkZi1zeW50YXgtbnMjIj48cmRmOkRlc2NyaXB0aW9uIHJkZjphYm91dD0idXVpZDpmYWY1YmRkNS1iYTNkLTExZGEtYWQzMS1kMzNkNzUxODJmMWIiIHhtbG5zOmRjPSJodHRwOi8vcHVybC5vcmcvZGMvZWxlbWVudHMvMS4xLyIvPjxyZGY6RGVzY3JpcHRpb24gcmRmOmFib3V0PSJ1dWlkOmZhZjViZGQ1LWJhM2QtMTFkYS1hZDMxLWQzM2Q3NTE4MmYxYiIgeG1sbnM6eG1wPSJodHRwOi8vbnMuYWRvYmUuY29tL3hhcC8xLjAvIj48eG1wOkNyZWF0ZURhdGU+MjAyNC0xMi0xOVQxNTowNTo1My43MDM8L3htcDpDcmVhdGVEYXRlPjwvcmRmOkRlc2NyaXB0aW9uPjxyZGY6RGVzY3JpcHRpb24gcmRmOmFib3V0PSJ1dWlkOmZhZjViZGQ1LWJhM2QtMTFkYS1hZDMxLWQzM2Q3NTE4MmYxYiIgeG1sbnM6ZGM9Imh0dHA6Ly9wdXJsLm9yZy9kYy9lbGVtZW50cy8xLjEvIj48ZGM6Y3JlYXRvcj48cmRmOlNlcSB4bWxuczpyZGY9Imh0dHA6Ly93d3cudzMub3JnLzE5OTkvMDIvMjItcmRmLXN5bnRheC1ucyMiPjxyZGY6bGk+TEVOT1ZPPC9yZGY6bGk+PC9yZGY6U2VxPg0KCQkJPC9kYzpjcmVhdG9yPjwvcmRmOkRlc2NyaXB0aW9uPjwvcmRmOlJERj48L3g6eG1wbWV0YT4NCiAgICAgICAgICAgICAgICAgICAgICAgICAgICAgICAgICAgICAgICAgICAgICAgICAgICAgICAgICAgICAgICAgICAgICAgICAgICAgICAgICAgICAgICAgICAgICAgICAgICAKICAgICAgICAgICAgICAgICAgICAgICAgICAgICAgICAgICAgICAgICAgICAgICAgICAgICAgICAgICAgICAgICAgICAgICAgICAgICAgICAgICAgICAgICAgICAgICAgICAgIAogICAgICAgICAgICAgICAgICAgICAgICAgICAgICAgICAgICAgICAgICAgICAgICAgICAgICA8P3hwYWNrZXQgZW5kPSd3Jz8+/9sAQwAHBQUGBQQHBgUGCAcHCAoRCwoJCQoVDxAMERgVGhkYFRgXGx4nIRsdJR0XGCIuIiUoKSssKxogLzMvKjInKisq/9sAQwEHCAgKCQoUCwsUKhwYHCoqKioqKioqKioqKioqKioqKioqKioqKioqKioqKioqKioqKioqKioqKioqKioqKioq/8AAEQgBPQIJAwEiAAIRAQMRAf/EAB8AAAEFAQEBAQEBAAAAAAAAAAABAgMEBQYHCAkKC//EALUQAAIBAwMCBAMFBQQEAAABfQECAwAEEQUSITFBBhNRYQcicRQygZGhCCNCscEVUtHwJDNicoIJChYXGBkaJSYnKCkqNDU2Nzg5OkNERUZHSElKU1RVVldYWVpjZGVmZ2hpanN0dXZ3eHl6g4SFhoeIiYqSk5SVlpeYmZqio6Slpqeoqaqys7S1tre4ubrCw8TFxsfIycrS09TV1tfY2drh4uPk5ebn6Onq8fLz9PX29/j5+v/EAB8BAAMBAQEBAQEBAQEAAAAAAAABAgMEBQYHCAkKC//EALURAAIBAgQEAwQHBQQEAAECdwABAgMRBAUhMQYSQVEHYXETIjKBCBRCkaGxwQkjM1LwFWJy0QoWJDThJfEXGBkaJicoKSo1Njc4OTpDREVGR0hJSlNUVVZXWFlaY2RlZmdoaWpzdHV2d3h5eoKDhIWGh4iJipKTlJWWl5iZmqKjpKWmp6ipqrKztLW2t7i5usLDxMXGx8jJytLT1NXW19jZ2uLj5OXm5+jp6vLz9PX29/j5+v/aAAwDAQACEQMRAD8A+kaKKKACiiigAooooAKKKKACiiigAooooAKKKKACiiigAooooAKKhvL210+0kur+5htbeIZkmnkCIg9Sx4FSI6yxrJGyujAFWU5BB7g0AOooqtZ6lY6g062F5b3Rt5DFMIZVfynHVWweD7HmgCzRRVafUrG1vLe0ury3hubokW8Mkqq8xAydqk5bHtQBZooooAKKKKACiiigAooqtdajZWMtvFe3lvbyXL+XAk0qoZX/ALqgn5j7CgCzRRRQAUUUUAFFFR3FxDaW8lxdSxwwxKXkkkYKqKOSSTwAPWgCSiqUWtaXPJaRwalZyPexmS1VJ1JnQclkAPzAeoq7QAUUUUAFFFUZ9b0q1nuILrU7OGW2i8+eOS4RWij/AL7An5V9zxQBeopkM0dxAk1vIksUihkkRgysDyCCOop9ABRRTZJEijaSVlREBZmY4CgdSTQA6ioLK+tNRs47vT7mG7tpBlJoJA6OOnDDg1PQAUUUUAFFFFABRRVa/wBRsdKtGutUvLeyt1IBmuJVjQEnAG5iBQBZooBz0ooAKKKKACiiigAooooAKKKKACiiigAooooAK8u+IXm+Ifib4b8GX11Pb6JewyXN1HDJ5f2wrkiJiDnb8vI9/UAj1Guf8W+CtJ8ZWtump/aILi0kEtre2kvlz275Byjc+g6g+vUAhdU/6/rqPo0edGzj+GXxWtNK8IGSPS9S0y4ubjTZJnljikjRisvJJGSgGc+oz0xJa/FDxinhvQPFGpaXow0O/uEtrhYnk+0ZZ2XeoJKqvA4JYnHbPHV2Pw703w7ZavfQT6jrGr3VpJF9u1Kc3FwV2YEanA4yOwyfXoK5b4d/CqzuPC3h2/8AETa1HNZkznR7mdlt0mDthzCwyp5B4IB7jBOXHez6W/OT/LQmXl1v+S/UzNc+Ptzp/ii+itI9K/s/T7v7M9rOJzd3IVtrvG6jylHXAY5475rqtK8b+J9b8b65p9lb6NFo2jXCefd3LSI5hZCeMEgtxnJwAO3Nacvwv00eIJtV0vWtd0f7RcC5ntNOvvKt5pM5LMm053d+a07TwTpVpdeIZi1xMPEJzeRyONoG0qQm0AgEE9yalX5fOz+/T/glOzfl+mp5/wCG/it4j1DxNpmnXi6Je2usLPHaXWn215EiyouQS0ygOuRghOR1yOhzPC/j7xX4f0Hxdr3iWS01OzsdRlgEKzS+YLouihIy2QsABOBjPtXc6P8ACTR9H1TSL9NW1u8l0dnNot5eCVEVlC7Au3CqAOAuD6k4GJ1+FWgC81p5J9Rlsta3tc6a9z/owkZlYyKoAIfKjDZOMntV/wCT/r8/wDr/AF5mRZ+OPF+j+JLDSPGtloxOrWks1lLpbS4jeNN5WQOecjHT9e2h8MPFPinxno0Ota3a6VbabNE6xC1MnmvIshBbDEgJgYxknIz0OBPonwt0jR9Q+3XGpaxrF1HA1vbS6peecbVGBDCMYAGQcdD7Y5rd8K+GrPwh4atdE02SeW2td2x7hgzncxY5IAHVj2p6a/13/SxLvZGxRRRUjCuO+KWh674h8DzWPhmUrctKrSwCXyjcxc7ot/bOR1IBxg9a7GsbxN4bh8T6bFazX+oae8MwmiutOn8maNgCvDYPUMQfrSauiouzPETdeENM8A+LYdN8Iy6RrFvbwLqGjanNNJG485QrK28MQN2cgr1HBHNdnc+NvE8OtXOg+GNP0fZY6HDfRm7MiqgwNy8EluOAOPUtxg66fB/Qf7G1eyur/V7241gIt1qN3dCW5KIysqhiuMAqP4SffgY2IfAumQa5daqk92Z7rTV011LrtESjAIG3O7jrnHtSlzW03/4D/VoStp/X8v8AkziNI+KHim8m8I399pWlw6P4glFqwjkdpxKMguOdqpnkKdxwDk81h6Jrfijw/bePdT8NWelzW1jrlzcXbX7vuZQOVjVMc4GcsQOmAa9Jt/hro9vpfh2wS5vjF4euPtFqTIm52yTh/l5HPbFZd38GNCvLjUJG1bXYY9Su2ur23gvQkVxuOdjIFwVBzjvyeemKlu7edvwt+oo3slLy/W/6FJPiL4l8Waumn+ALDSY2h06G+u5NXkkIBlUMsaiPHIB6ng+2OcJPFh8a+LvhnrD232WZ7i9imiDbgrqgBwfQ9fxrudZ+Fui6pfQXlhe6roM8VstoX0e78jzYVwFRuDkDHH65wMT23w10CxuPD0mnrcWq+HzK1rFHICrmQYYvkEk9+CKatzJ+f6v9A6W8v0/zOtpk0hit5JFUuUUsFHfA6U+ipeq0GtzxXwD4M0f4o+H5vFfjkT6tqN5cSIqNcyIlmisQI0VWGBznB9R7k71/4x8VXXiHWNF8CWekGDw5CguptVeQtMxTICCPAGNpHPf0q9d/CDRpNRu7rSNX17QUvW33FtpN/wCTDKxzlipU9c9OnoBVjXPhXo+s6pLf2+paxo81zCsN1/Zd55K3SqNo8wEHdgcUa200/wA+4aXu9f8AK5z8HxT1zX7vwzD4X0yw367YzylL13AhljJXl16oCp6Lk+2cjmvEnxB8aav4CE8DWOmXdjrh02/e1klQvIrDZ5ZBJCHkNk5OBjqRXqlr8P8ARLDWtG1DT1mtf7FtntrW3jcGPY+c7sgsTyTnP1zVCb4VaFPoGq6S9xf+VqeonUnlWVRJDMSDmMhcAcdwetPS9/6+L/InW1v62/zM2/8AF/jOTxJaeEdFtdCbX47AXuoXFy832VRu27Iwvz55Bya5DXfGOoeKofB13/Z0I1iw8RtZT2yzFYXnQDJDkEhTkHoSPevQtS+F+m6kLCY61rtrqVlb/Zv7Vtr7ZdTx5ztkfb83Jz0FSQfDDQLSz0S3tTdxLo959tjYShmuJj1aUkHdnvjHtgcUdde6/wDSk/y/EHtZdv0/zIPAPi/Wtb1zxBofii3sItR0aaNS+n7/ACnV1JGN5JyMdeOvTis2+8Z+Mrvxr4l0DwzY6M/9kRwyxzXxkX5WTcwO0/MxPTG0DBya63SPCNhovibWddtZbh7rWGja4SRlKLsBA2gAEde5Nefv4Bm8S/FjxhJfy65pNpNFbLDeWErW4uF8vDpuIKuvAyMHGO3NJ3bSXb8bFq3vPz/Uoan8eJ18O+HprGLTbC+1OF5rmXURM8EARmTAWIFzuZTg9h1z1Fyz+L+tatZeFTo+n6dPdavdXFnco7Ose+MLh0Y8qp3bjlWIHGCevV33wq8P3On6VbafLqGjS6SjR2t3plyYZwjZ3KWwc5JJPGck+pzaT4fWPneH5rvVdWvrjQJZZbee7uFkkmMnXzGK5YDoMY4FXpf5/hf/ACJW3y/T/M4m7+K3ifS/CPiSXUrDSxrehahDav5KyNbyLIcZALbs9T1HUcdq0vHXiy+bWPEPhYxW/wBh/wCEWnvvM2t5vmcrjOcbce2fet6/+GGhalB4hivJLx18QTJNcYlUGJ0+6Y8Lxjrzuqra/CTRra6u7mTVNau7i8019Nmmu7wTO0bdWyy8MBgDHygDp1qN4We9v/bbfmVF2mn5/r/kcf4Zu4oNW+HCDSre6uf+EflkinJcTKRGflXDBeenzKcZOMVa8NfFjWtXj1qXVbzwzpj2NpNILC4W6juLeRThRKGGHAx83l5OSOATiu0tvhzpVpc6LPBd36yaLYPY2zCVASjLtLNhfvDsRjntWX/wprQrhLv+2tV13Wpbi3+zpPqV/wCa9uud2YztGDkA85HHTk5d3r8/xb/4BEVa1/L8lf8AU5/Qviz4gnuNTtNVt9Lnkj0WXVbG5sra6hicIDgMs4VnU8HcuBx1OeLGk/EvxZJc+ELvWNL0qPSPETCAfZ3czpJ/ewTtVScED5jgckE4retPhLo9reTXcura3e3M+my6bJNe3gmZonJycsvBAOBjC8dCck6A+HekjTvDlkLi98vw5Ms1od6Zcjpv+XkfTFPr933Xd/wsN/Dpvr+St+NxnxC8X3fhTTdPj0e1hutV1W9Sys0uGIiV2/ifGDge3rXlmt3OrReLPGsvizT9MnvYvDaebDbySNbTDzFwRyrr16ZyCODXsni3whpvjLSo7LVDcRGGZZ7e5tZPLlgkXoyNg4PUcg/ng1z0fwf0NP7UaTUtZuZtVshZXU9zdiWR1BB37mUnd8oHpjoBWck2n8//AEmy/Eemny/NP8jZsSjfCyBoYY4IzowKxR52oPJ+6MknA9yTXg/gXQXv7bwpceD/AA3rVjrUN2Jb/W5N8dpLAGO4Bi+1uMAqAM4I5r6Pg0iCDw9Ho6PIbeO1FqGJG/aF25zjGce1QeGfD1p4V8OWmi6fJNJbWilUadgXIJJ5IAHf0rRv95Ka8vzZmk+SMX5/oefy/E3X7fR9VsZ7KwPii21qPS7WBY3EMwkwUcjduwUDn73YVmaNqnja7+IHjez1W90+axtLcC6hV5isSmBzH9nUnCk8b89ecVpaNoUvir40y+LptCv9JsNPgESjUIzE91cjKiQJk5UIcBvp746qf4eaZL4wu/EUN/qdrPfQ+Vd21vcBYLj92UDOm05IB45wCAcdcw1eHm01+CS/Jv5mt7Sfqvzv/wAD5HmngXxn4j8MeEvBEdxp+m/2BqVz9hDeY7XRZpG+fsqrz0+Y8HpnjZn+KHi240fUvFmj6Vo7+GNNumhaGeaT7XOqsAzqw+QZ3Z5Bxz179Z/wrHRhoOgaR9pv/s+gXS3Vq3mJvdwxbDnZgjJ7AVSu/g54eu9QupDe6xDp95cfaLnSIL4pZzPwSSgGeSAeG+mAAK0k7yb83+m/4/1tEVaKT8v12/Ayr34ieK77xHr2n+FNP0qWHT9Pgv4Zb4yKdjxhyrBW+ZjnAHygdz69v4J8RP4r8F6ZrcsKwSXcO6SNTwGBKnHtkHFQweCNMttf1jVoZLhZtXtUtZowy+XGiJtGwbcg49SaveGfD1p4V8OWmi6fJNJbWilUedgXIJJ5IAHf0pLb+vP/AIAO91/XRfrc1a8f+L2qXeifETwjqWnWT311a21/JHAnViIh+g6kDnA45r2CsPVPCljq3inR9fuZbhbrSBKIEjZRG3mLg7gQSeOmCKXVf10ZXRnl2k6/p/gD4R/8JnbzQazrmvTjz72XcAZmJJVsDcEjwcqMZI4xkY53xT8Srjxr8Ndf07UX024ns5rWWO50xZkikRpACNswDgqR16HPtk+qH4Q+HPsWq2Ky36WOpT/ahapKqpaTjpLDhcow+pGOCMYp03wssbzwze6HqniLxFqVveSxyGS9vlmkjKHICFkwAe/FVFrmTe11p220+Qtvx/XUZH421L/hL/FmkeRa/Z9E02O6tm2Nvdmj3EOd2CM+gFYFx8TvEM3hfwxd6bNoMWqaxbyyyWlxa3czPtPHlpAHYDAOSx7cdDXT678LtF17xBPq815qtpNdW32a7isrsxR3KbSo8wAZPGOM4+UZB5zAPhHokaaQLbUtatH0u3Nostre+S9xCX3+XIVAyMk/d2nn2GI1tr/W/wDwA0TXp+i/4JzUPxa8R6tpvhA6Jpenfbtee5gmjuTII0kiwA6kHIXPzEEE44znmneK/iX4q8N381vFJ4bvJdOtIp9RtILe9kkRiBvw6qUjUk8byMAjPWuo0j4VaHop0A2l1qDf2DLPLaiSRDvMv3g+EGQO2MfjTdb+E+i67qeqXk+o6zbLqqAXdra3pjhkYAAOUwcsAOhyvtRK9tP67f16D0/r1/ysZNz8QPFGpeLv7G8K6fpZ87Q4tUia/aQeWWYZDFT8wwcAADkg5wK6f4deKp/Gfgey1m8t47e5lLxzRxE7NyMVJXJJwcZwScep60umeBNM0rxFHrNvPdtcx6WmlhXdSnlKRhsBQd3A5zj2q54T8LWXg7w9Fo+mS3EtvE7uGuGVnyzFjyAB1PpV6Xdv61f6Eq/Kr7/8DX8TaoooqRhRRRQAUUUUAQzXdtbuFnuIomIyA7gHH40z+0rH/n9t/wDv6v8AjVmigCt/aVj/AM/tv/39X/Gj+0rH/n9t/wDv6v8AjVmigCt/aVj/AM/tv/39X/Gj+0rH/n9t/wDv6v8AjVmigCt/aVj/AM/tv/39X/Gj+0rH/n9t/wDv6v8AjVmigCt/aVj/AM/tv/39X/Gj+0rH/n9t/wDv6v8AjVmigCt/aVj/AM/tv/39X/Gj+0rH/n9t/wDv6v8AjVmigCt/aVj/AM/tv/39X/Gj+0rH/n9t/wDv6v8AjVmigCt/aVj/AM/tv/39X/Gj+0rH/n9t/wDv6v8AjVmigCt/aVj/AM/tv/39X/Gj+0rH/n9t/wDv6v8AjVmigCt/aVj/AM/tv/39X/Gj+0rH/n9t/wDv6v8AjVmigCt/aVj/AM/tv/39X/Gj+0rH/n9t/wDv6v8AjVmigCt/aVj/AM/tv/39X/Gj+0rH/n9t/wDv6v8AjVmigCt/aVj/AM/tv/39X/Gj+0rH/n9t/wDv6v8AjVmigCt/aVj/AM/tv/39X/Gj+0rH/n9t/wDv6v8AjVmigCt/aVj/AM/tv/39X/Gj+0rH/n9t/wDv6v8AjVmigCt/aVj/AM/tv/39X/Gj+0rH/n9t/wDv6v8AjVmigCt/aVj/AM/tv/39X/Gj+0rH/n9t/wDv6v8AjVmigCt/aVj/AM/tv/39X/Gj+0rH/n9t/wDv6v8AjVmigCt/aVj/AM/tv/39X/Gj+0rH/n9t/wDv6v8AjVmigCt/aVj/AM/tv/39X/Gj+0rH/n9t/wDv6v8AjVmigCt/aVj/AM/tv/39X/Gj+0rH/n9t/wDv6v8AjVmigCt/aVj/AM/tv/39X/Gj+0rH/n9t/wDv6v8AjVmigCt/aVj/AM/tv/39X/Gj+0rH/n9t/wDv6v8AjVmigCt/aVj/AM/tv/39X/Gj+0rH/n9t/wDv6v8AjVmigCt/aVj/AM/tv/39X/Gj+0rH/n9t/wDv6v8AjVmigCt/aVj/AM/tv/39X/Gj+0rH/n9t/wDv6v8AjVmigCt/aVj/AM/tv/39X/Gj+0rH/n9t/wDv6v8AjVmigCt/aVj/AM/tv/39X/Gj+0rH/n9t/wDv6v8AjVmigCt/aVj/AM/tv/39X/Gj+0rH/n9t/wDv6v8AjVmigCt/aVj/AM/tv/39X/Gj+0rH/n9t/wDv6v8AjVmigBkM8VwhaCVJVBwSjAjP4U+iigAooooAKKKKACsvVvEWnaJcW0F8blproO0MVrZzXLsExuO2JGIA3Dk+talch4lk1CLx94ebSLW2urj7Jejy7q5aBNuYcncqOc+2PxpdSoq7Ok0zVLPWLFLzTphNCxK52lSrA4KspAKsCCCpAIPBFW684vrHW7TVLHSt1vJLq73N/dRxalNYI0o8sLHHLGjOQq5OPlLYLHAytTw2WsPfaBpWs6pMqO96JVsdQkYvEoGyNpsI7MucbuG45JJJL6f1/W5J3kdzBNNNFDNHJJAwWVFcExkgEBh2OCDz2NSV55aQWXh7WPGupyPqjeTNGAqX0rsQ8EfIWR9mdxwGb7oGMgDFZ9xdavpEHiqxeaSzaLQWu44k1qa/kgk+cB/MlUOhwBwCR8uR3pJ30/ra5XLrb0/Gx6nVK61SG01SxsJFkMt8ZBGVA2jYu4559PrXHnR3/wCEz0/TDrGsGzv9MluruM6jKDLLG8QVlYHdF/rWJWMopwBjAxWbbSPqn/CJ2+pancR7b/UbLzxPsmmSMyRqpk+9uKqMspDE5IIPNVKLSv8A1vYz5tL/ANbXPT6palqkOlram4WRvtVzHbJsAOGc4BOSOK4lr82txqXh62m1HUoX1GO0sv8AiYyI6SmEzPG9zkyBF25JBZvm2jPSsy3mvr7SX067u2RrHxXBaxvFetdtEu1HKCaRQzkM7DLDI6dhSV21by+5tL9Ry92Lfr+T/wAj1aivP5r0eHtU13SPO1O6s2isTbxtfO8wluHkiKrNIxZFJRed2VyxXkis17vWLPS/FWmfbXs5bQ2RhMGqS3z2zSPhv3sqh+QAdrAgZ9DQ9A2dj1KiuXsLdtI8efYLe8vZra7097iSO7upJ9siSKNy7yduQ5yowvAwBXUUdE/67D6tf13Ciiobx7pLSRrCGGe4A/dxzymJGPuwViP++TQBNRXMeFb3xDczXg1aysUt1u5l8yLUZJnQhuECtCo2j13D6V09JapPuHVoKKKKYBRRRQAUUUUAZ9vr2lXeszaTa39vPf26b5reJwzRDIHzY+6eRwea0K5iG2gtPiSkVrDHBGdJkcpGgUbmuAzHA7kkknuSa3dQkv47QtpVtb3NxkYjubhoUx3+ZUc/+O0k7xT9fzaF9prt/kmWqoaxrml+HtPa91u/gsbdcjfM4XccE7VHVmwDgDJPYVleDLzXLvSUbWbW0SP59k0V888jneRgholwB67j0HFL4+t4ZPAmtzyQxtLFptwI5GUFkzGc4PbOKZcEpSSOiRg6KynKsMg+1LUVr/x5w/8AXNf5VLTejIi7pMKKKKQwooooAKKKKACiiigAooooAKKKKACiiigAooooAKKKKACiiigArO1TXLPR/L+2C6cyAkLa2U1ywA6kiJWIHucCtGsfWNXuba5i03SLUXWp3CF0EhKxQIDgySN6ZOAo5Y9MAFlTv0A0rO8t9QsobyymSe3nQPHIhyGU9CKmrP0LSl0PQ7XTllM5gTDyldvmMSSzY7ZJJx2rQpggooooAKKKKACiiigAooooAKKKKACiiigAqNraB7mO4eGNp4lZY5SgLIGxuAPUA4GfXAokmWNsMD0zxTftSejflT5WTzJEeo6Xp+r2v2XVrG2vrfcG8q5hWRMjocMCM0W+mWFpHbpa2VtClqpS3WOJVEKnqFwPlB9BUn2pPRvyo+1J6N+VPlYc8e5BPoul3V493c6bZzXMkBt3mkgVnaI9YyxGSpz93pUVt4d0SytXtrPR9Pt4JIzE8UVqiqyE5KkAYIJJ4q59qT0b8qPtSejflRysOddxfslv9pS48iLz40MaS7BuVCQSoPUAlRx7D0qrNoWkXNt9muNLspYMufKe3Rly5Jc4Ix8xJJ9c81Z+1J6N+VH2pPRvyo5W1YOePcqHw9oraONJbSLA6apyLI2qeSDnOdmNvXnp1qSDRtLtYVittNtIY1kWRUjgVVDqoVWAA6gKAD2AA7VP9qT0b8qPtSejflRyyFzRI7nStPvBcC7sbacXUaxT+bCreagyQrZHzAZOAfU1Fb6DpFpatbWulWMEDBVMUdsiqQpJUYAxwSSPQmrP2pPRvyo+1J6N+VHKw5ojjbwm6FyYYzOqGMS7RuCkglc9cZAOPapKh+1J6N+VH2pPRvyo5WPnj3JqKh+1J6N+VH2pPRvyo5WHPHuTUVD9qT0b8qPtSejflRysOePcmoqH7Uno35Ufak9G/KjlYc8e5NRUP2pPRvyo+1J6N+VHKw549yaioftSejflR9qT0b8qOVhzx7jvs8P2r7T5Mfn7PL83aN23OdueuM84qSoftSejflR9qT0b8qOVhzx7k1RzwQ3VvJb3USTQyqUkjkUMrqeCCDwR7U37Uno35Ufak9G/KjlYc8e5KAFUBQAAMADtS1D9qT0b8qPtSejflRysOaJNRUP2pPRvyo+1J6N+VHKw549yaioftSejflR9qT0b8qOVhzx7k1FQ/ak9G/Kj7Uno35UcrDnj3JqKh+1J6N+VH2pPRvyo5WHPHuTUVD9qT0b8qPtSejflRysOePcmoqH7Uno35Ufak9G/KjlYc8e5NRUP2pPRvyo+1J6N+VHKw549yaioftSejflR9qT0b8qOVhzx7k1FQ/ak9G/Kj7Uno35UcrDnj3JqKh+1J6N+VH2pPRvyo5WHPHuTVm6n4b0PW5kl1nRtP1CSNdqPd2qSlR6AsDgVc+1J6N+VH2pPRvypcrDnj3G2Gn2Wl2aWmmWcFnbJnZDbxLGi5OThQABzVioftSejflR9qT0b8qfLIXNEmoqH7Uno35Ufak9G/KjlY+ePcmoqH7Uno35Ufak9G/KjlYc8e5NRUP2pPRvyo+1J6N+VHKw549yaimxyCRcrnrjmnVJW4UUUUAFFFFAFS6/1o/3ahqa6/wBaP92uZ1zUNWTxDpelaPPZW5u4Z5ZJbq2efHlmPAAWROu885PSt47I5pK8mdBRXN2HipYtPl/t3AvLe7e0ZbGCSbz2UA7o41DPjaQSOdvIJOM1afxdokdtazG8LC83iBEgkeSRk++gQKW3jnKY3cHjg07q1/61IszaorKXxNpL6P8A2mty32bzDDgwSCXzA23y/K279+eNu3PtUNv4w0S6M4jupFe2aFZ4pbaWN4jK+yMMjKGBJHQjoQehBp7hZm3RVK51exs7iWC5n2SRWzXTrsY4iU4LcD9OtUx4s0p7FbyFryeB2CxtBp88hlyu7cgVCWXB+8AV7ZzSugszZorHl8WaLFZ2Vy14Wjvw32YJC7vKVGSoQKW3DB+XG7IIxninJ4n0l9IOpC4cW6ymEq1vIJfMBx5flFd+/P8ADtyfSi6A1qKx7PxXo98LwW9xL5ljGslzDJaypLEG3bQY2UNuO04XGTxxyMoni3Rm068vpLmS3hscG5F1bSwPED0JR1DYPY4xwfQ03puFmbNFZmneINO1W8mtLOSbz4kDlJraSHchJAdN6jeuR95cjpzyK06BBRRRQAUUUUAFFFFABRRRQAUUUUAFFc4dS1nTvEun2WozWF1BqTyrHHbW7xyW4RS+5iXYOvAUnavLL64ro6Og9gopsm8Rt5QUvg7QxwCe2TWBaajrFn4nt9J1iexvFu7aWeOS0tngMXlsgIYNI+4HzBg5GCOhzwdbBY6GiiigQUUUUAFFFFABRRRQAUUUUAFFFFABRRRQAUUUUAFFFFABRRRQAUUUUAFFFc/4y1zU9A8P3N/pOnQ3ZggkmkkuJ9iRBVz0ALOT2UYHByy8ZBpXdjoKKRTuQE9xS0CWqCiiigAooooAKKKKALdr/qj/AL1TVDa/6o/71TVhLc64fCgoooqSgooooAqXX+tH+7XK694ffWfFOkTyi5Wztre5WWW2vHt2VmMW0ZjZWIO1uOnHPauquv8AWj/dqGt4q6RzSbUnY4zWvCiWt3pc+l6deXFnZwzQPbadqD2s+ZCjeZv8xN5JT5tz5JbPJqfTtAa21PRbm102e0giN1LOl1defLG8gXBZy7EscHOCwHrXWUU7EXucZLouq21/LqUFkLkwa094ltvQNPE1uIiUJIUMCSQGI6HkZzWbcQapreveJHi05re5S202WG2llQsximkl2MykorHGOGIAZSTzgdzqWl22rW6w3nnBUcOrQXEkLq2CMh0YMOCRwe9Jpej2WjW7xafEyiRzJI8krSySMf4mdyWY4AGSTwAOgpq6VvT8LDvZ3X9a3OZu7PWdZ1TULt9HlsoZdFltIUnniMjSls4IRmUA8YO4++Kl1Sw1ZLTRreO2v59PhtTHd2mmXSW8xkATYfMLoQgw+QrgkkdRmuuopKKX9ebf6ivrf+tkv0OG8N+HNTsI/D4vLTyzZXd/JMDcCYxrK8hQ7ydz5DDnrzzg5p8miatbaxeapBYi58rW/tsdv5iBp4jaJCShLABgdxAYjO09Mg121U9S0u21a3WG884Kjh1aC4khdWwRkOjBhwSOD3p3d211/wCB/kHf+u/+ZxLya9f+IvEc2nWk1hdG008LEJImm8sSSmRc5MayFS2PmIGVJIzxCPDGqTQ+JDBpd7BHqFpax20WoaiLmZmSSQuGZpH28MCBuIwR3JA7vS9HstGt3i0+JlEjmSR5JWlkkY/xM7ksxwAMkngAdBV2m9mgburf1/WhiXGn3L+O7DUUizaQ6dcQPJuHDtJCVGM55CN7cVt0UUX0S/re4dQqtf2MWo2jW9w9wiMQSbe4kgfj/bjYMPzqzRSAhtLWOytI7eFpWSMYBmmeVz9Xclj+JNTUUUCCiiigAooooAKKKKAOPg0+7uvEtne2Xh2TQHWdptRuTLCBeLsZdhETsZfmYEGQDGMjk4rpNS0uDVYFiupLqNVbcDa3ktu2cY5aNlJHPQnFXKKLaWKbbdypd/aLLRZv7Mha6uYYG+zxSS5MjhflBdj3OMkn8awPDMd1BeNJqGhaqt/cr/pOpXslswOOQiiOZiiA8BVGO5ySWPVUUdbi6WCiiigQUUUUAFFFFABRRRQAUUUUAFFFFABRRRQAUUUUAFFFFABRRRQAUUUUAFY3jCwudV8F6vYWEfm3NzZyRRJuC7mKkAZOAPxrZopjTs7iIMIoPUCloopCWisFFFFABRRRQAUUUUAW7X/VH/eqaobX/VH/AHqmrCW51w+FBRRRUlBRRRQAhRW+8oP1FJ5af3F/KnVQ1TXtI0MRnWtVstOE2fLN3cJFvx1xuIzjI/Oi4WuXfLT+4v5UeWn9xfyplrdW97ax3NnPHcW8qh45YnDo6noQRwRUtPUVkN8tP7i/lR5af3F/KoLTUbW+nu4bWXzJLObyJxtI2PtV8cjn5XU5HHNWaNQshvlp/cX8qPLT+4v5Vnt4h0tThrrB+2iw/wBW3+vPOzp+vT3rSpXurhpew3y0/uL+VHlp/cX8qdRTuwshvlp/cX8qPLT+4v5U6ii7CyG+Wn9xfyo8tP7i/lTqKLsLIb5af3F/Kjy0/uL+VOpskqQxPLM6xxopZnY4CgdST2FK4WQeWn9xfyo8tP7i/lSghlBUggjII70tO7CyG+Wn9xfyo8tP7i/lTqKLsLIb5af3F/Kjy0/uL+VOoouwshvlp/cX8qPLT+4v5U6ii7CyG+Wn9xfyo8tP7i/lVG18QaNfalLp9jq1jc3sOfNtoblHkjwcHKg5GDwc1dlmjgjMk8iRoCAWdgAMnA5PvSu9wshfLT+4v5UeWn9xfyp1Z+n6/o+r3E0Gk6tY300H+tjtrlJGj5x8wUnHPrTuwsi95af3F/Kjy0/uL+VOoouwshvlp/cX8qPLT+4v5U6ii7CyG+Wn9xfyo8tP7i/lTqKLsLIb5af3F/Kjy0/uL+VOoouwshvlp/cX8qPLT+4v5U6ii7CyG+Wn9xfyo8tP7i/lTqKLsLIb5af3F/Kjy0/uL+VOoouwshvlp/cX8qPLT+4v5U6ii7CyG+Wn9xfyo8tP7i/lTqKLsLIb5af3F/Kjy0/uL+VOoouwshvlp/cX8qPLT+4v5U6ii7CyG+Wn9xfyo8tP7i/lTqbJIkUbSSsqIgLMzHAUDqSaVwsg8tP7i/lR5af3F/Km29xDd20dxayxzQSqHjljYMrqRkEEcEEd6kp6hZDfLT+4v5UeWn9xfyp1FF2FkN8tP7i/lR5af3F/KnUUXYWQ3y0/uL+VHlp/cX8qdRRdhZCBQv3QB9BS0UUhhRRRQAUUUUAFch4lvJ7Hx94elttOudRf7JejybVolfGYef3jouPxzXX1Wl0+1m1K3v5Yt1zbI8cUm4jar7dwxnBztXr6Uuo4uxwJk13SLiHTLSyvLWTVprrUpIdLa1aa1XdGBGDORHkl9zkBuSQMg7quw3niq4uNE02/uZ9KluXu1mkMVu07xIAY3+XfGr8jOMr1+UcAdVquh2GtLD9vjk3wMWimgnkgljJGDtkjZWGRwQDz3ot9DsLZrN44nL2QcQySTPIw3/eJZiSxOOrZNHS39f1bT8RddDhtM1G9bx5rmgWV01gbjVDPJfuqlnVLa3zFEGUqZD1OR8q5IBzkWNU8TahDrUF9pNxql3px1SKwl3QWyWS7pRC6gtidmDHO5cruGOmQOruvC+kXkN3HPat/pdyt3KyTOj+cqqqurKwZCAij5SOnuarv4J0GS7FxJazOy3C3SRteTGJJgwcSLHv2K24ZJABOWzncc2mrxv0t+Fv6/Hqwez87/qYVlf3Njc3AtZPLFz4paCX5QdyGMEjnp0HI5pn/AAkepHxJp9zYT6pdaTe3/wBlLz29sloVIb/V9J8gqPmbKthiOCMdaNB00Pu+zc/bPt2fMb/XYxv6+nbp7VUi8G6HDeR3SWspeGc3MKPdzPHBIc5McZYqmdzcKAOazgmlFPpb8FFfoxd/O/4tv9UcymqeIBod3r8mtuVtNWlgSyW2iEUkK3Rj2udu/djOGVlHC5BOS3oVZ39gaZ/ZcunfZv8ARZpmnePzG5dpPMJznP3+cdO3StGq8inq2wooooEFFFFABWbr2iwa/pv2O52qpcN5m350HRtjAgoxUsu4cjca0qKNwKGi6WmjaTFZRssnl53ShArSknO9vVz1Zu5yeM4q/RRTbuAUUUUgCiiigAoooIyCD3oA5NtviTX9LbSYAmmaLdNK17jasriN4/Kh/vKN/wAzfd+XaMnO3U8ReHYPEdrFBPK9v5b7hPASkyjHRJAQUyQucdQMd6h0/wAGaTpbwGxfVI0t8eVEdYu2iUDoPLMpUj2IxW9R0sO+pVsrOHT9KhtAkEcUMQUrFEI4+nOF6KOvFYFiw8R+JbDV9Pg8rStOiljguiNpvC4Ufux18oBc7jgMQpXIGT0txbx3drLbzruimQo6gkZUjBGRyKydO8KabpdxDNaS6pmEYSObV7qWMDGMbHkKkY9RRu7sXTQ2qKKKACiiigAooooAKKKKACiiigAooooAKKKKACiiigAooooAKKKKACiiigArjPGerB7r+xbm01Eac0Blu57fTbi4Wcc4gDRowGSMuT/DxzuJXs6R0WSNkcZVhgj1FTJXViouzOb+HNyl18NtAaJZVCafBGfNhaMkrGoOAwGR6EcHqCa6Wq9hY22l6bbWFjH5VtaxLDDHuLbUUYAyck8DvVitZy5puS6mcVZJBRRRUFBRRRQAUUUUAFFFFABRRRQAUUUUANZ1U4Y4pPNT1/So5/vj6VHQBY81PX9KPNT1/Sq9FAFjzU9f0o81PX9Kr0UAWPNT1/SjzU9f0qvRQBY81PX9KPNT1/Sq9FAFjzU9f0o81PX9Kr0UAWPNT1/SjzU9f0qvRQBY81PX9KPNT1/Sq9FAFjzU9f0o81PX9Kr0UAWPNT1/SjzU9f0qvRQBY81PX9KPNT1/Sq9FAFjzU9f0o81PX9Kr0UAWPNT1/SjzU9f0qvRQBY81PX9KPNT1/Sq9FAFjzU9f0o81PX9Kr0UAWPNT1/SjzU9f0qvRQBY81PX9KPNT1/Sq9FAFjzU9f0o81PX9Kr0UAWPNT1/SjzU9f0qvRQBY81PX9KPNT1/Sq9FAFjzU9f0o81PX9Kr0UAWPNT1/SjzU9f0qvRQBY81PX9KPNT1/Sq9FAFjzU9f0o81PX9Kr0UAWPNT1/SjzU9f0qvRQBY81PX9KPNT1/Sq9FAFjzU9f0o81PX9Kr0UAWPNT1/SjzU9f0qvRQBY81PX9KPNT1/Sq9FAFjzU9f0o81PX9Kr0UAWlYMMrzS1HB9w/WpKACiiigAooooAgn++PpXP61rWoWWsafpmk6fbXk97HNLm5u2gVBHszysbkk7/QdK6Cf74+lcl4h0u91Dxlob2d3e2CRW12JLq0jjbaSYsKTIjqM4PbPHHel1RUbX1Ltl4pszpM15rclvo7Wtw1rci5uVEccoxwJDgEEEEHAJBHAPFXZtc0m3so7y41SyitZY/Njne4RUdOPmDE4I5HPuK5HWdAfRdS0m4tbvWY7WJbj7Rd2UCXdwZ5Nh8x0MUhO4KwyijbkAYXipdL0OK31bw/Nbx391Asl7ctPf2wjeN5MfMVCKI8ktgbVPJ460+n9f15k7f1/XodOniHRZLm1t49XsHnvEEltEtyhadOfmQZyw4PI9DWZaeLrNNU1S01q/sLHyNQ+yWglmEbTDyYn/iPzNmTHHtxXPjQpLfwbqaW2mPHcSeI/tKqkBDsBeqRIABnGwZz6D0p4eLTdS8YpeeH7+6l1S62wmLT3kS8T7PGoQuAVVQxYZcqvJ54bAno35f8AyP8Am0U42dvO35nZX+uaTpdxDBqep2dnNcHEMdxcJG0hzj5QSCeSOnrTr/WtL0qWCPU9Ss7KS4bbClxOsZlPHCgkZPI6etef6tba1Focuh3kmpCSPRo4I/7N00T/ANoP5RDrLK6OigMCAuUPzE5ORjXsJTpGqznV9Kvrg39lbRwSxWkk4YKm1oX2g+XhiT8+FO888HCejdun/B/yJ6K/X/gf5nSDUGn1ayWyu9Pksp4JXYebmWQqVAMeDgqMkMexK0+x13SNTmni03VLK7ktv9elvcJIYuv3gDx0PX0rhPDcN+mmeG7vT9OLPBol6qREfu1lLxFI2YcDJUj8DjpT9Ljv73xTpt47atcqum3UUv2nS/skNu7eURFGDGr4443M4+XhiQaG7L7/ANf8vxKSvY7a08QaNf3os7HVrG5ujGJRBDco7lCAQ20HOCCDnpyK0a4HS9HntPCngCKLT5IZbOWFrhBCVaDNtIHLDGVyzYOe55rvquSs2uzsT0T7q4UUUVIBRRWN4mnlGlrY2blLvUZBaxMpwUDffce6oGb6gUtegepa0fU/7X08XqReXDJI4hO7PmRhiFf6NjI68EVfqO3t4rS1it7dBHFCgREUYCqBgCpKp26AFFFFIAooooAKKKRhuUjOMjGRSewGNYaxf6rdrLYafbnSC7J9rluysj7SQWSMRkFcjAJdSeTjGM6800dvBJNO4SONS7sxwFAGSa8z0fQI7KHRdPs9IurfxFp91Gt1qbWjgNAjfOTcEbXR4/lVAxI3KNo2fL2XiT/TjZ6GpydQkzOPS3TBkz7N8qf8Dp200f8AXf8ArzHopGhp19Nf6LBfPaNBJNF5q27N8wB5UE4GDjGR2PHPWs/T9cv211dI1vTrezuZbZrmBrW7NwjqrKrAlo0KkF17EHPXiti4lFtayzeXJII0LbIl3M2BnAHc+1clocav4wW50WDVBYtayLey6pBMrF9ymNUa4Hm4/wBYdqnYM9ATy9ObyF9k7KiiikAUUUUAFFFFABRRRQAUUUUAFFFFABRRRQAUUUUAFFFFABRRRQAUUUUAFZurXOsW4T+xdOtb3hjJ9pvGt8YxgLiN8k89cAY61pVz3ie404rHa6pDrLKQXRtNhunVjyCreQCD/uv8pz0PNJ36DRp6NqkWt6JZ6nbI8cV3CsqpIBuUEZwccZq9WT4XivofC9hFqsYiukiCvHtRdoH3QQnyg7cZC8Zzjitaqe5K1QUUUUhhRRRQAUUUUATwfcP1qSo4PuH61JQAUUUUAFFFFAEE/wB8fSo6sPGHOTmk8hfU0AQUVP5C+po8hfU0AQUVP5C+po8hfU0AQVj6poU+pXDvHr2qWEUkYjkgtWiCsOeQWjZlJBxlWHQd+a3/ACF9TR5C+poAo2dpBp9jDZ2cQit4IxHHGvRVAwBU9T+QvqaPIX1NG4EFFT+QvqaPIX1NAEFFT+QvqaPIX1NAEFRvbwyTxzPFG0sQIjkKgsmeuD2zirfkL6mjyF9TQBBRU/kL6mjyF9TQBBRU/kL6mjyF9TQBBRU/kL6mjyF9TQBBRU/kL6mjyF9TQBBUf2eH7V9p8mPz9nl+btG7bnO3PXGecVb8hfU0eQvqaAIKKn8hfU0eQvqaAIKKn8hfU0eQvqaAIKKn8hfU0eQvqaAIKKn8hfU0eQvqaAIKKn8hfU0eQvqaAIKKn8hfU0eQvqaAIKKn8hfU0eQvqaAIKKn8hfU0eQvqaAIKKn8hfU0eQvqaAIKKn8hfU0eQvqaAIKKn8hfU0eQvqaAIKKn8hfU0eQvqaAIKKn8hfU0eQvqaAIKKn8hfU0eQvqaAIKKn8hfU0eQvqaAIKKn8hfU0eQvqaAIKKn8hfU0eQvqaACD7h+tSUiKEGBS0AFFFFABRRRQAUUVwvje2tbrxp4djvfD/APwkEf2a8P2Py4Hwcw/NiZlXj655pDSudt9oh+1fZvOj8/Z5nlbhu25xux1xnjNSVwsl3a+HteN7HpZ0+2sfDss/2CNY1MYWUMUAQlAfoSPetJdU8RaZc6dLrn9mzWt/MIXitInR7NmUsvzs5EoyNpIVOucdqE/dv/W7X6E63f8AXRN/mdRRXGReIvEDaLbeJXTTzpVy0TiwETi4jgkYAOZt+0sAwYrsHdQ3c6Oj6rq+qeJdYgc2UWnaZefZgoiZpZswxv8Ae3gLguexyDjjGTVndrt/X6jeh0VFcfqui6XrfxJgi1nTbPUI49JZkS7gWUKfOUZAYHBqjNqI8D32tWmmwySWCRWclpaKski28s8rxlUVQSE+VW8tBxztHNTHWN/X87B1a7f5J/qd9UVzdW9nD5t3PHBHuVN8rhRuYgAZPckgD1JriIvGOtw295LcWv2m3s/JnlvH0m609fJL7ZVCTEksi/PkMQRxgY5t6/r87S30a2Vnc2FneWNt/pMZk3zSTIWIGcfIroQf7x9sVSTdv6/rsB2NRW1zBeW6z2k8c8L52yROGVsHBwRx1Fczb+Ir+fxlJplxd2FgiTFIrC6tZFnu4wufMilLhH9Sqq20cEg1V0bWtT1DTdKsdCt9N0+Wa2e6mka3ZoYVEhUKkSupJY5OdwxgnnOKm+3mHU7WiuNm8UazFax2y29k+px6wmmTsdwhYMgfzVGcr8rKdpJwcjJ61q6FqWpS6rqWlay9rNcWXlSLcWkLRJIkgOAUZ3IYFW/iIIx06U1r/Xkn+TB6Oz/r+rG7RRVTVNQi0rSrm/nDMlvGXKqMs2BwoHck8AeppN2VxrV2LdFcfcWVzaeFbPQ3k/4mWtTFbqSMn5S+ZLhgeoAXcqnt8grro40ijWOJQiIAqqowAB0FUIdRRRSAKKKKACiiigAorhHsLHTfH2lSWWjDQTJczJLeCNB/ahaJjsJjLZ5G/Mu05TgEk46nxBqMml6JPPbKHunxDbIejzOQqA+24jPtk0dLodtbGlRXK6hp0dvpOk+Erdy4ucC4ZjlngTDTM3rvJCk+slbOuw6RJo8x8RJbPpsQ8yZbsAxYH94Hgj2PfHfFD0EtTRormPBNgbO31KS2sm07TLm783T7Fo/L8qLy0BPl/wDLMM4ZtmARnJAJIrp6YBRRRSAKKKKACiiigAooooAKKKKACiiigAooooAKKKKACiiigAooooAKKK4/4n6cLzwDq1w13eQi1sZ5BFbztEkjbON+3BYDn5SdpzyDxhpXdhpXdjsKKbH/AKpP90U6kSndXCiiigYUUUUAFFFFABRRRQAUUUUAFFFFABVGfSoLjW7PVHeQT2cUsUagjaRJs3ZGM5+QY59aulgOpA/Gjev94fnQBn3WhWV7qcl5dK0pls2spIWwY3jZsnIxnPbr0qjYeE4rS5tZLrVNR1KKyObOC8eNltztKggqis5CkgF2Y8+vNb29f7w/Ojev94fnQtAOdg8F2kDRwf2hfyaXFKJotKdozbxsG3KAdnmbQ3IUuVGAMYAFaun6TBpt1qNxA8jPqFz9plDkEK3lomFwOmEHXPOau71/vD86N6/3h+dC0/r+uwbmNqnhxtQ1iPU7XWNQ0y5jgNuTaLAwdC27kSxv3HbFJ/wienNotzp8zXExunEs928pM8kq4Kyb+zAqpAACrgAAAYra3r/eH50b1/vD86Nlb+u4dbmbZaO8FtcQ6jql5q63C7G+2iIALggqFjRF5yckgn3qpD4RsYfDsOj+fdSRR3CXJnkdTLI6SiQFjjB5UDp044rd3r/eH50b1/vD86NncDGPhoS6xFe3uq393HbztcW9nMYvKhkIIyCqBzgMwAZiOenAxX/4Q22itNPj0/Ub+wuNPR44ru3aMyNGxyyMHRkYE4PK8EDGOc9DvX+8Pzo3r/eH50rDuY0Xhayit7aMy3EkkF4L553cF55sEFnOMc56KABgAYAxV2DS4bfWLzUkaQzXkcccikjaBHuxjjP8Rzz6Vc3r/eH50b1/vD86YhazNX02bU7iwiJj+xQ3AnuFYnc5TmNQMYxv2scn+EetaW9f7w/Ojev94fnQBmppsz+JpdTujGY4rcQWiqSSoY7pGPHBJCDjPC+9adJvX+8Pzo3r/eH50dLALRSb1/vD86N6/wB4fnQAtFJvX+8Pzo3r/eH50ALRSb1/vD86N6/3h+dAGHbeFgmoW11qOsalqn2Ni9rFdtEEhcqV3fu41LEKSMuW6k9eatXmnT3uvWE8jR/YrNXlCZO5pyNqnGMbQpf8SPStLev94fnRvX+8PzoAzLTTp18Q32p3hjJdEt7VUYnZEBuJOQMMzk5xnhUpNe0JdegtUa+urJ7W4W5jkthGTvUEDIkR1IGc9OCAe1am9f7w/Ojev94fnQBR0vT7mwWQXesXuplyNpu0hUp9PKjTr75q/Sb1/vD86N6/3h+dAC0Um9f7w/Ojev8AeH50ALRSb1/vD86N6/3h+dAC0Um9f7w/Ojev94fnQAtFJvX+8Pzo3r/eH50ALRSb1/vD86N6/wB4fnQAtFJvX+8Pzo3r/eH50ALRSb1/vD86N6/3h+dAC0Um9f7w/Ojev94fnQAtFJvX+8Pzo3r/AHh+dAC0Um9f7w/Ojev94fnQAtUta0qDXdDvdKu2kSC8haGRoiAwVhg4JBGfwq5vX+8Pzo3r/eH50ACjaoA7DFLSb1/vD86N6/3h+dAC0Um9f7w/Ojev94fnQAtFJvX+8Pzo3r/eH50ALRSb1/vD86N6/wB4fnQAtFAIPQ5ooAKKKKACiiigCCf74+lR1JP98fSsTVPEllpGtaXpl4sol1RnWGQBdiFcfeJIPJZQMA8mjrYDXorK17xBaeHba3mvVmk+03MdtGkKhmLOcZwSOB1J7AVq0AFFFZug6v8A23pjXnkeRtuZ4Nm/d/qpWjznA67M47Z70wNKis/VdU/sx7BfJ837Zdpbfexs3And05+70rQpbgFFFFABRRRQAUUUUAFFFUdV1RNKto3NvNdTTSCKG2t9vmSuQTgbmVeAGJJIGAaAL1FZFt4jt7q2s3jtrpZrudoBbMgEkTISJN/OAF2nJBIPGM5GdegAooooAKKKKACiikJwpIBJA6DvQAtFc7/wlc8eo2Nne+GtXtGvpvJieR7VlB2liSEmY4AUknH9K0dW1f8AszyUisrrULmcny7a12byFGWbLsqgDjqepAHWjpcDRorLttftbxtOW1inlN/EZlwmPJQD70mSNvJC45OT0wCRdvLhrW0kmS3muWUfLDCAXc9gMkD8SQB3IFAE9FZWk66up3NzaTWN1p15bBWktrvyy2xs7XBjdlIJDDrnKnIFatABRRRQAUUUUAFFFFABRRRQAUUUUAFFFFABRRRQAUUUUAFFFFABRRRQAUUVj+I/FGm+FrE3OqNMfkd1it4WlkcIMscKOAOMs2FGRkjNAbmxRSA7lBHcZpaACiiigAooooAKKKKAJ4PuH61JUcH3D9akoAKKKKACiiigCCf74+lcX4r01dX8W6RYu5jMthe7JFHMbhoCrj3VgCPcV2k/3x9KjpDi7O55/qc02u6dJql3F5f2FoLRYyCMT+ennkZ6gYVQfZuxqPUT4YbVtaTxj5B1bzf9CW5/1/lbB5f2TPzZzn/V/Nvz3xXolFK2oJ2/r+v61POv+JedQsYviULUj+ybf7ONU2GBrj5vO27uDL9z3x071S8L6hYaPb6DqF/P9i07ztWtxcXrlAjNdbkV2c5DERt97nI55r1KitObcS0/rysecWdzHeFZ4NxjfxaSpZSuR5fXB7HqPUVUuP7Dk0q+WUxHxyJ5RFuI+3ifefL8v+MRbdv3fk2ZzxmvUqKiK5Ul2/yS/QOt/wCt2/1EGdoz1xzS0UUwCiiigAooooAKzNes7a603zru9k08WbfaUvYmUNblQQW+cFcbSwO4EYJrTooGtDzMl9HNvc6hrk+hxXsM0kN3OsRlJ3BljYyIUEkhZ5GUKCcKq4EdehaZPPc6RZz3kflXEsCPLHtK7WKgkYPI57Vaop30sT1uFFFFIYUUUUAFFFFAHO6cf7U8aaneuoMWlqthbkjo7KskrD65iX/gJqfxPb2wsBqNxqF1pr2YJS5tNhk+bAKBXVlYsdoA2k5xjmtuilbSw1vc8ymmuvDMbRSaq2mX32NJbO02xub2TLBLXc6sX24UEIQxaVmz8wx3PiDXbfw5oUup3u0JGUQBpAil3YKoLNwoyRknoMmtSiqeqsI5bwneaZf315eJr+m6vq1wieethcI6QRrnaigEnaCx+ZuSSTwMKOpoopCCiiigYUUUUAFFFFABRRRQAUUUUAFFFFABRRRQAUUUUAFFFFABRRRQAVznxB/5Jx4g/wCwfN/6Aa6OimnZ3GnZ3Gx/6tfoKdRRSJSsrBRRRQMKKKKACiiigCeD7h+tSVHB9w/WpKACiiigAooooAY8W9s5xx6UzyP9r9KmooAh8j/a/SjyP9r9KmooAh8j/a/SjyP9r9KmooAh8j/a/SjyP9r9KmooAh8j/a/SjyP9r9KmooAh8j/a/SjyP9r9KmooAh8j/a/SjyP9r9KmooAh8j/a/SjyP9r9KmooAh8j/a/SjyP9r9KmooAh8j/a/SjyP9r9KmooAh8j/a/SjyP9r9KmooAh8j/a/SjyP9r9KmooAh8j/a/SjyP9r9KmooAh8j/a/SjyP9r9KmooAh8j/a/SjyP9r9KmooAh8j/a/SjyP9r9KmooAh8j/a/SjyP9r9KmooAh8j/a/SjyP9r9KmooAh8j/a/SjyP9r9KmooAh8j/a/SjyP9r9KmooAh8j/a/SjyP9r9KmooAh8j/a/SjyP9r9KmooAh8j/a/SjyP9r9KmooAh8j/a/SjyP9r9KmooAh8j/a/SjyP9r9KmooAh8j/a/SjyP9r9KmooAh8j/a/SjyP9r9KmooAh8j/a/SjyP9r9KmooAh8j/a/SjyP9r9KmooAh8j/a/SjyP9r9KmooAaibFxnPNOoooAKKKKACiiigArmfEEuoz+LNG0qx1a50yG5t7qWZ7WOFncoYto/eo4A+c9BXTVzuveFbbxB4j0q71Ozsr6xs4bhXgu4hJl38vaQpBHGxufel1RUbX1K2i+IdQ/smcPaXWvy297LapPZLChnRCP3jF3RMgnacEZZThQMgWW8aWJt9Me1s767l1QSi3t4Yl374/vo25gqkEEZJ25HXpmv4h8MS3txpy2WnabfaXawtC2k3sjRW4+7scIqOrFQpAUrgZyCMcxeHvCN5o6aCkr2e3TftYkW3BRMSvlQi44AHbPHvT6f1/XmRrf8Ar+vIvL4xtX09JksL5r17prMaYET7R5y5LL9/YAFG7dv24xzyKzNa8UtfeH9WitbfUNLvrCS2EyzgIy+ZIvAZGIbjOSCRzjJ5p83h/U7LVX1KwuLE3janJcQW1xKyJPG8KoyFgpKsNhYEBunvxmR6VqHieXxdb3DWYkuJbSFvJkYxRtGAzx+ZgFiAeu0cnGBg1Lu1/XZfr/Xc6/N/r/X9adXD4khvFv302xvL6KzfyhLAqbLiXOGSMlhkqeCxwoORu4bGNrXjm5s9BuLmw0S8+32t7BbXFnceVuiEjphiRLtIZWwCrH5iM4AOI5/CmtQaK2hWMlpcaRbyRtaRT3MkLSQg/NaylEOUxnDckgBWU8sYIPAt3Do+twW1ppGmtfT211bWljlIY3hKNtYhB1ZOWC9DnFP+vy/4P9aula/9f1/Xql3FrM89rHLLbyWzuoLQylS8Z9DtJXP0JFS1FatcPaxteRRxXBUGSOKQyIrdwGKqSPfA+lS0xBRRRQAUUUUAFZfiKbVIdHdtDCNeFgiI8ZbcW+Ucj7mCQSxDAAHg1qUUnqGxx95qfitdI0+4tbaN7iUl7q3+yujQKrZYbiWDkAFMAAyE7lKgV1kHmfZ4/PZXl2jeyIUBOOSFJJA9iTipKKoAooopAFFFFABRRQc4OOvbNAHKXUup6P4o0eH+3J9R/tK4kSWxmhhVYohGzGSPYgcBWCL8zN98A8kGtDxPc61bWMTeHYUuLlnwYWUjcOv+swVTgHqpySAME5rL8O6Z4k027M+paXpE91dMPtuojVJWlcDoFQ24AUfwoGAHPOSSevo6Ib3OT1C/8UJNp32FYZo5Y1e5l+wSIIc5XJjLFm5dW2AqyiNstyBXS3kM1xZyRW901rK4wJ40VmT1IDAjPpkEZ6g9KnrL8R2+q3WhTQaDJFFeSFAGklMWE3DeA4VirFcgHacEg0MXUz/D11er4h1fSrjU5dWgs1hYXU6RLJHI4bdC3lqqnACN93I3854rpKxPDdrqGn2/2K40fTNMs41zGLK/ecsxOSWDQpycklskk9eua26bEFFFFIYUUUUAFFFFABRRRQAUUUUAFFFFABRRRQAUUUUAFFFFABRRRQAVjeJNWlsLMWmmlW1S7VhaqV3BMD5pWH91QcnPUlV6sK2awtW8I6Zq19Lfym9jvZIBAZLfUbi3BUZKgiNwCAWJ6d6mV7FRtfUl8I31zqngrRb++k825urCGaaTaF3OyAk4GAOT2rYrG8IaG3hvwjpulSyGSa1tkjlbznlUuFAbaX5C5HA4AHQCtmtalud22M435VcKKKKgoKKKKACiiigAooooAKKKKACiiigAooooAKKKKAKmpaTp2s2ottX0+1v4AwcRXUKyqGHGcMCM8nn3qSysrTTrOO00+2htLaMYSGCMIiDrwo4FT0UAFFFFABRRRQAUUUUAFFFFABRRRQAUUUUAFFFFABRRRQAUUUUAFFFFABRRRQAUUUUAFFFFABRRRQAUUUUAFFFFABRRRQAUUUUAFFFFABRRRQAUUUUAFFFFABRRRQAUUUUAFFFFABRRRQAUUUUAFFFFABRRRQAUUUUAFFFFABRRRQAUUUUAFFFFABRRRQAUUUUAFFFFABRRRQAUUUUAFFFFABRRRQAUUUUAFFFFABRRRQAUUUUAFFFFABRRRQAUUUUAFFFFABRRRQAUUUUAFFFFABRRRQAUUUUAFFFFABRRRQAUUUUAFFFFABRRRQAUUUUAFFFFABRRRQB//9k=)"
      ],
      "metadata": {
        "id": "lbocorYt81LE"
      }
    },
    {
      "cell_type": "markdown",
      "source": [
        "**Pertambahan**"
      ],
      "metadata": {
        "id": "GN--gTFQ9EAt"
      }
    },
    {
      "cell_type": "markdown",
      "source": [
        "Operator tambah `(+)` akan menambahkan nilai di kedua sisi operator."
      ],
      "metadata": {
        "id": "FvoYU2TN9G-5"
      }
    },
    {
      "cell_type": "code",
      "source": [
        "print(1+1)"
      ],
      "metadata": {
        "colab": {
          "base_uri": "https://localhost:8080/"
        },
        "id": "2oHleef69GMh",
        "outputId": "9f2c58c9-6d94-4f5e-ddf1-a0ccade9bef8"
      },
      "execution_count": null,
      "outputs": [
        {
          "output_type": "stream",
          "name": "stdout",
          "text": [
            "2\n"
          ]
        }
      ]
    },
    {
      "cell_type": "code",
      "source": [
        "num_1 = 59\n",
        "num_2 = 345\n",
        "print(num_1+num_2)"
      ],
      "metadata": {
        "colab": {
          "base_uri": "https://localhost:8080/"
        },
        "id": "KJnQocFO9Q3B",
        "outputId": "d64438ed-eb43-46be-d200-21e08b8c4f83"
      },
      "execution_count": null,
      "outputs": [
        {
          "output_type": "stream",
          "name": "stdout",
          "text": [
            "404\n"
          ]
        }
      ]
    },
    {
      "cell_type": "markdown",
      "source": [
        "**Pengurangan**"
      ],
      "metadata": {
        "id": "4rvOWm5g9elx"
      }
    },
    {
      "cell_type": "markdown",
      "source": [
        "Operasi kurang `(-)` akan mengurangi nilai sebelah kiri operator sebesar nilai sebelah kanan."
      ],
      "metadata": {
        "id": "ngPuZDeW-2dt"
      }
    },
    {
      "cell_type": "code",
      "source": [
        "print(2-3)"
      ],
      "metadata": {
        "colab": {
          "base_uri": "https://localhost:8080/"
        },
        "id": "2C2fgvgi-4qd",
        "outputId": "601899cd-ed53-464b-c0ca-41920bff17bf"
      },
      "execution_count": null,
      "outputs": [
        {
          "output_type": "stream",
          "name": "stdout",
          "text": [
            "-1\n"
          ]
        }
      ]
    },
    {
      "cell_type": "code",
      "source": [
        "num_3 = 88\n",
        "num_4 = 66\n",
        "print(num_3-num_4)"
      ],
      "metadata": {
        "colab": {
          "base_uri": "https://localhost:8080/"
        },
        "id": "nKvXqw7A--Oh",
        "outputId": "0d52ca7d-f07b-4b7d-a408-28ac9d67ef05"
      },
      "execution_count": null,
      "outputs": [
        {
          "output_type": "stream",
          "name": "stdout",
          "text": [
            "22\n"
          ]
        }
      ]
    },
    {
      "cell_type": "markdown",
      "source": [
        "**Perkalian**"
      ],
      "metadata": {
        "id": "14LlYtr8_Mid"
      }
    },
    {
      "cell_type": "markdown",
      "source": [
        "Simbol kali `(*)` akan mengalikan nilai di kedua sisi operator\n",
        "\n",
        "```\n",
        "# This is formatted as code\n",
        "```\n",
        "\n"
      ],
      "metadata": {
        "id": "XbsXv4qC_SA8"
      }
    },
    {
      "cell_type": "code",
      "source": [
        "print(5*5)"
      ],
      "metadata": {
        "colab": {
          "base_uri": "https://localhost:8080/"
        },
        "id": "gwq9dJ7u_UOX",
        "outputId": "59563129-a98c-4d54-bc59-620e9d41e9b2"
      },
      "execution_count": null,
      "outputs": [
        {
          "output_type": "stream",
          "name": "stdout",
          "text": [
            "25\n"
          ]
        }
      ]
    },
    {
      "cell_type": "code",
      "source": [
        "num_5 = 94\n",
        "num_6 = 47\n",
        "print(num_5*num_6)"
      ],
      "metadata": {
        "colab": {
          "base_uri": "https://localhost:8080/"
        },
        "id": "15ln0WY8_Y7N",
        "outputId": "7ba6dc7f-78df-4a7a-bb4d-dfee1b2a2f4e"
      },
      "execution_count": null,
      "outputs": [
        {
          "output_type": "stream",
          "name": "stdout",
          "text": [
            "4418\n"
          ]
        }
      ]
    },
    {
      "cell_type": "markdown",
      "source": [
        "**Pembagian**"
      ],
      "metadata": {
        "id": "J-07BNYl_gCt"
      }
    },
    {
      "cell_type": "markdown",
      "source": [
        "Operator bagi `(/)` akan membagi angka disebelah kiri dengan angka sebelah kanan operator."
      ],
      "metadata": {
        "id": "3G1RtSuw_hdo"
      }
    },
    {
      "cell_type": "code",
      "source": [
        "print(4/2)"
      ],
      "metadata": {
        "colab": {
          "base_uri": "https://localhost:8080/"
        },
        "id": "PWmZ9NV3_-9d",
        "outputId": "98e70578-5710-4fe7-d285-8098b436bb81"
      },
      "execution_count": null,
      "outputs": [
        {
          "output_type": "stream",
          "name": "stdout",
          "text": [
            "2.0\n"
          ]
        }
      ]
    },
    {
      "cell_type": "code",
      "source": [
        "num_7 = 55\n",
        "num_8 = 11\n",
        "print(num_7/num_8)"
      ],
      "metadata": {
        "colab": {
          "base_uri": "https://localhost:8080/"
        },
        "id": "-lvWbyo6AJTU",
        "outputId": "d529477e-6467-492d-f38e-0bbb9b072666"
      },
      "execution_count": null,
      "outputs": [
        {
          "output_type": "stream",
          "name": "stdout",
          "text": [
            "5.0\n"
          ]
        }
      ]
    },
    {
      "cell_type": "code",
      "source": [
        "bulan_1 = 2578500\n",
        "bulan_2 = 2867400\n",
        "bulan_3 = 3100600\n",
        "total_bulan = 3\n",
        "total_pendapatan = bulan_1+bulan_2+bulan_3\n",
        "rata_rata = total_pendapatan/total_bulan\n",
        "print(rata_rata)"
      ],
      "metadata": {
        "colab": {
          "base_uri": "https://localhost:8080/"
        },
        "id": "SsT1m9PVAU5t",
        "outputId": "b048aa3a-eb52-432b-fba1-aee04b8ee1dd"
      },
      "execution_count": null,
      "outputs": [
        {
          "output_type": "stream",
          "name": "stdout",
          "text": [
            "2848833.3333333335\n"
          ]
        }
      ]
    },
    {
      "cell_type": "code",
      "source": [
        "goals_bruno = 44\n",
        "goals_amad = 67\n",
        "goals_hojlund = 125\n",
        "goals_garnacho = 37\n",
        "total_players = 4\n",
        "total_goals = goals_bruno+goals_garnacho+goals_amad+goals_hojlund\n",
        "average_goals = total_goals/total_players\n",
        "print(average_goals)"
      ],
      "metadata": {
        "colab": {
          "base_uri": "https://localhost:8080/"
        },
        "id": "fyKEiWzOB-gV",
        "outputId": "346f8fea-dfb1-4cdf-f716-31868293516f"
      },
      "execution_count": null,
      "outputs": [
        {
          "output_type": "stream",
          "name": "stdout",
          "text": [
            "68.25\n"
          ]
        }
      ]
    },
    {
      "cell_type": "markdown",
      "source": [
        "**Floor Division**"
      ],
      "metadata": {
        "id": "6Kfvne3qGw_B"
      }
    },
    {
      "cell_type": "markdown",
      "source": [
        "Floor devision berarti **membagi dan membulatkan ke bawah** ke bilangan bulat terdekat.\n",
        "\n",
        "Jika pembagian biasa, contohnya `7 / 2 = 3.5` maka floor devision akan membulatkan ke bawah ke bilangan bulat terdekat, berarti `7 // 2 = 3`."
      ],
      "metadata": {
        "id": "QNj5olinG0f1"
      }
    },
    {
      "cell_type": "code",
      "source": [
        "print(7//2)"
      ],
      "metadata": {
        "colab": {
          "base_uri": "https://localhost:8080/"
        },
        "id": "2WSdcTcUHDIW",
        "outputId": "5af6fdca-c03d-4080-c463-a31fb6f1c168"
      },
      "execution_count": null,
      "outputs": [
        {
          "output_type": "stream",
          "name": "stdout",
          "text": [
            "3\n"
          ]
        }
      ]
    },
    {
      "cell_type": "code",
      "source": [
        "fDivision_1 = 20\n",
        "fDivision_2 = 8\n",
        "print(fDivision_1//fDivision_2)"
      ],
      "metadata": {
        "colab": {
          "base_uri": "https://localhost:8080/"
        },
        "id": "kpTup_4tHHby",
        "outputId": "5cd8ed6a-fced-4c54-dde5-bb6e98f62949"
      },
      "execution_count": null,
      "outputs": [
        {
          "output_type": "stream",
          "name": "stdout",
          "text": [
            "2\n"
          ]
        }
      ]
    },
    {
      "cell_type": "markdown",
      "source": [
        "**Modulo (Sisa Hasil Bagi)**"
      ],
      "metadata": {
        "id": "ecFElWdoHiMd"
      }
    },
    {
      "cell_type": "markdown",
      "source": [
        "Mungkin anda berpikir kalau simbol `%` artinya adalah persen. Namun pada Python ini disebut **Modulo**.\n",
        "\n",
        "Misalnya, anda memiliki 5 apel dan akan dibagikan ke dua teman anda. Jika setiap orang mendapatkan apel utuh dalam jumlah yang sama, berapa sisa apel anda?"
      ],
      "metadata": {
        "id": "JzOzuk4tHlyv"
      }
    },
    {
      "cell_type": "code",
      "source": [
        "print(5%2)"
      ],
      "metadata": {
        "colab": {
          "base_uri": "https://localhost:8080/"
        },
        "id": "1kzZqBQEHvMd",
        "outputId": "01bf3da4-4ec3-42d1-f4e9-f41dbea791d6"
      },
      "execution_count": null,
      "outputs": [
        {
          "output_type": "stream",
          "name": "stdout",
          "text": [
            "1\n"
          ]
        }
      ]
    },
    {
      "cell_type": "code",
      "source": [
        "print(17%3)"
      ],
      "metadata": {
        "colab": {
          "base_uri": "https://localhost:8080/"
        },
        "id": "8JyjE4RsH1V9",
        "outputId": "8a029d1c-37b6-4ca9-ad92-0599b6e1b175"
      },
      "execution_count": null,
      "outputs": [
        {
          "output_type": "stream",
          "name": "stdout",
          "text": [
            "2\n"
          ]
        }
      ]
    },
    {
      "cell_type": "code",
      "source": [
        "mod_1 = 44\n",
        "mod_2 = 7\n",
        "print(mod_1%mod_2)"
      ],
      "metadata": {
        "colab": {
          "base_uri": "https://localhost:8080/"
        },
        "id": "-rpD1DJCH6Zc",
        "outputId": "841cd2d1-54e6-4e7d-9248-82d0e1fdd8a7"
      },
      "execution_count": null,
      "outputs": [
        {
          "output_type": "stream",
          "name": "stdout",
          "text": [
            "2\n"
          ]
        }
      ]
    },
    {
      "cell_type": "markdown",
      "source": [
        "**Pangkat**"
      ],
      "metadata": {
        "id": "SjVUlIJpIA3p"
      }
    },
    {
      "cell_type": "markdown",
      "source": [
        "Operasi **pangkat** pada Python dilambangkan dengan `**`"
      ],
      "metadata": {
        "id": "CK86r-2_ICIt"
      }
    },
    {
      "cell_type": "code",
      "source": [
        "print(3**2)"
      ],
      "metadata": {
        "colab": {
          "base_uri": "https://localhost:8080/"
        },
        "id": "2LtCalceIFM8",
        "outputId": "62f72251-45fc-428a-da17-2283f5352685"
      },
      "execution_count": null,
      "outputs": [
        {
          "output_type": "stream",
          "name": "stdout",
          "text": [
            "9\n"
          ]
        }
      ]
    },
    {
      "cell_type": "code",
      "source": [
        "mark_1 = 4\n",
        "mark_2 = 12\n",
        "print(mark_1**mark_2)"
      ],
      "metadata": {
        "colab": {
          "base_uri": "https://localhost:8080/"
        },
        "id": "NlzVcHwJIK39",
        "outputId": "9c41ea1e-8540-48fb-fb36-c41fa7ad6f70"
      },
      "execution_count": null,
      "outputs": [
        {
          "output_type": "stream",
          "name": "stdout",
          "text": [
            "16777216\n"
          ]
        }
      ]
    },
    {
      "cell_type": "markdown",
      "source": [
        "**Exercise**\n",
        "\n",
        "Doni membeli 2 kotak Martabak Manis. Didalam 1 kotak, Martabak Manis dipotong menjadi 10 bagian. Doni kemudian menyantapnya bersama 6 orang temannya. Jika setiap orang mendapat jumlah yang sama. Berapakah sisa Martabak Manis di dalam kotak?"
      ],
      "metadata": {
        "id": "W7x1WYpiIgad"
      }
    },
    {
      "cell_type": "code",
      "source": [
        "jumlah_martabak = 20\n",
        "jumlah_teman = 7\n",
        "sisa_martabak = jumlah_martabak%jumlah_teman\n",
        "print(sisa_martabak)"
      ],
      "metadata": {
        "colab": {
          "base_uri": "https://localhost:8080/"
        },
        "id": "qRoZ_yrTIlz2",
        "outputId": "8c2872d4-00a4-4fba-8d32-2a232722106c"
      },
      "execution_count": null,
      "outputs": [
        {
          "output_type": "stream",
          "name": "stdout",
          "text": [
            "6\n"
          ]
        }
      ]
    },
    {
      "cell_type": "markdown",
      "source": [
        "Pak Hartono agak kesal karena harga BBM naik dari Rp 7650 per liter menjadi Rp 10000 per liter. Jika sebelumnya beliau membeli Rp 20000 sudah full tank, berapa liter yang harus dibayar Pak Hartono jika mengisi full tank dengan harga yang baru?"
      ],
      "metadata": {
        "id": "l4B-4dPcJ12v"
      }
    },
    {
      "cell_type": "code",
      "source": [
        "## Pertama - tama, hitung berapa kapasitas full tank yang dimaksud\n",
        "harga_lama = 7650\n",
        "fulltank_lama = 20000\n",
        "kapasitas_full = fulltank_lama/harga_lama\n",
        "print(kapasitas_full)\n",
        "\n",
        "## Setelah mendapatkan angka kapasitas tangki, hitung kapasitas dengan harga BBM yang baru\n",
        "harga_baru = 10000\n",
        "fulltank_baru = kapasitas_full*harga_baru\n",
        "print(fulltank_baru)"
      ],
      "metadata": {
        "colab": {
          "base_uri": "https://localhost:8080/"
        },
        "id": "Aew7wAPGJdb1",
        "outputId": "37cde936-225f-4462-80a8-c329fc3908e4"
      },
      "execution_count": null,
      "outputs": [
        {
          "output_type": "stream",
          "name": "stdout",
          "text": [
            "2.6143790849673203\n",
            "26143.7908496732\n"
          ]
        }
      ]
    },
    {
      "cell_type": "markdown",
      "source": [
        "Putra bekerja di sebuah perusahaan swasta. Beliau mendapatkan gaji tahunan sebesar Rp 160 juta dan dibayarkan setiap dua minggu. Jika dalam satu tahun gaji tersebut dibayarkan sebanyak 26 kali, berapakah gaji yang di dapatkan Putra selama dua minggu?"
      ],
      "metadata": {
        "id": "Z2qRhgTSMRJP"
      }
    },
    {
      "cell_type": "code",
      "source": [
        "gaji_tahunan = 160000000\n",
        "jumlah_dibayarkan = 26\n",
        "gaji = gaji_tahunan/jumlah_dibayarkan\n",
        "print(gaji)"
      ],
      "metadata": {
        "colab": {
          "base_uri": "https://localhost:8080/"
        },
        "id": "zWxYU0ahMQ2k",
        "outputId": "bf7c6e76-205e-47a7-e358-a21de41998a2"
      },
      "execution_count": null,
      "outputs": [
        {
          "output_type": "stream",
          "name": "stdout",
          "text": [
            "6153846.153846154\n"
          ]
        }
      ]
    },
    {
      "cell_type": "markdown",
      "source": [
        "**ORDER OF OPERATIONS**"
      ],
      "metadata": {
        "id": "EyEJlWDyopDf"
      }
    },
    {
      "cell_type": "markdown",
      "source": [
        "Setiap operasi matematika memiliki urutan dalam penyelesaiannya.\n",
        "Jika dalam satu ekspresi terdapat lebih dari satu operasi, maka harus di selesaikan berdasarkan operasi yang lebih tinggi prioritasnya.\n",
        "Untuk lebih mudah mengingat aturan ini bisa menggunakan akronim PEMDAS:"
      ],
      "metadata": {
        "id": "z86dA5U8ou8R"
      }
    },
    {
      "cell_type": "markdown",
      "source": [
        "![ASDFAS.JPG](data:image/jpeg;base64,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)"
      ],
      "metadata": {
        "id": "bnamc2jWpBHK"
      }
    },
    {
      "cell_type": "markdown",
      "source": [
        "**Parentheses (Tanda Kurung)**"
      ],
      "metadata": {
        "id": "2t5M26pXpNdV"
      }
    },
    {
      "cell_type": "markdown",
      "source": [
        "Tanda kurung memiliki prioritas tertinggi dan dapat digunakan untuk memaksa ekspresi dievaluasi dalam urutan yang dinginkan.\n",
        "\n",
        "Karena ekspresi dalam tanda kurung dievaluasi terlebih dahulu, maka `2 * (3-1)` adalah `4`, dan `(1+1)**(5-2)` adalah `8`."
      ],
      "metadata": {
        "id": "zkRJAdZgpZ2z"
      }
    },
    {
      "cell_type": "code",
      "source": [
        "print(2*(3-1))"
      ],
      "metadata": {
        "colab": {
          "base_uri": "https://localhost:8080/"
        },
        "id": "0o42o53eqeD-",
        "outputId": "39f454d3-c6d3-4b72-d8ce-2f643cd64726"
      },
      "execution_count": null,
      "outputs": [
        {
          "output_type": "stream",
          "name": "stdout",
          "text": [
            "4\n"
          ]
        }
      ]
    },
    {
      "cell_type": "code",
      "source": [
        "print((1+1**(5-2)))"
      ],
      "metadata": {
        "colab": {
          "base_uri": "https://localhost:8080/"
        },
        "id": "sdRCWKd2qnkW",
        "outputId": "2f923c41-d05d-4934-c92a-1c5d1abbfabc"
      },
      "execution_count": null,
      "outputs": [
        {
          "output_type": "stream",
          "name": "stdout",
          "text": [
            "2\n"
          ]
        }
      ]
    },
    {
      "cell_type": "markdown",
      "source": [
        "Coba berikan variabel pada bilangan 1, 5 dan 2. Kemudian lengkapi code dan masukkan variabel kedalam titik-titik dibawah sesuai dengan operasi `(1+1)**(5-2)`. Jangan lupa terapkan penggunaan \"good\" variables!"
      ],
      "metadata": {
        "id": "tOf_Tm0NrVc2"
      }
    },
    {
      "cell_type": "code",
      "source": [
        "number_1 = 1\n",
        "number_2 = 2\n",
        "number_5 = 5\n",
        "print((number_1+number_1)**(number_5-number_2))"
      ],
      "metadata": {
        "colab": {
          "base_uri": "https://localhost:8080/"
        },
        "id": "fLPvQ5ovrfDy",
        "outputId": "b0398014-39d1-439f-8643-63924280641d"
      },
      "execution_count": null,
      "outputs": [
        {
          "output_type": "stream",
          "name": "stdout",
          "text": [
            "8\n"
          ]
        }
      ]
    },
    {
      "cell_type": "markdown",
      "source": [
        "**Exponents (Pangkat)**"
      ],
      "metadata": {
        "id": "rct0LyhMsalQ"
      }
    },
    {
      "cell_type": "markdown",
      "source": [
        "Pangkat memiliki prioritas tertinggi berikutnya, jadi `2**1+1` adalah `3`, **bukan** 4, dan `3*1**3` adalah `3`, **bukan** 27."
      ],
      "metadata": {
        "id": "YdW2g_xrsfE_"
      }
    },
    {
      "cell_type": "code",
      "source": [
        "print(2**1+1)"
      ],
      "metadata": {
        "colab": {
          "base_uri": "https://localhost:8080/"
        },
        "id": "kkBlygWTtn-z",
        "outputId": "2c687f04-4a46-4565-8a71-bc6285d06c48"
      },
      "execution_count": null,
      "outputs": [
        {
          "output_type": "stream",
          "name": "stdout",
          "text": [
            "3\n"
          ]
        }
      ]
    },
    {
      "cell_type": "code",
      "source": [
        "print(3**1+1)"
      ],
      "metadata": {
        "colab": {
          "base_uri": "https://localhost:8080/"
        },
        "id": "hZLPvPvGtx5y",
        "outputId": "302de8e8-1676-4163-aa07-9858e91b89c8"
      },
      "execution_count": null,
      "outputs": [
        {
          "output_type": "stream",
          "name": "stdout",
          "text": [
            "4\n"
          ]
        }
      ]
    },
    {
      "cell_type": "markdown",
      "source": [
        "Coba ketik kembali dengan ekspresi matematika pada titik-titik dibawah: `empat dikali dua pangkat tiga`"
      ],
      "metadata": {
        "id": "BmQiC1s7uMmL"
      }
    },
    {
      "cell_type": "code",
      "source": [
        "print(4*2**3)"
      ],
      "metadata": {
        "colab": {
          "base_uri": "https://localhost:8080/"
        },
        "id": "bRQJU3gDuTO8",
        "outputId": "0e6c561c-9755-4068-b9c7-2338dccba30e"
      },
      "execution_count": null,
      "outputs": [
        {
          "output_type": "stream",
          "name": "stdout",
          "text": [
            "32\n"
          ]
        }
      ]
    },
    {
      "cell_type": "markdown",
      "source": [
        "**Multiplication and Division**"
      ],
      "metadata": {
        "id": "UKwayP87ubt6"
      }
    },
    {
      "cell_type": "markdown",
      "source": [
        "Prioritas selanjutnya adalah perkalian dan pembagian.\n",
        "\n",
        "Perkalian dan pembagian memiliki prioritas yang sama, dan lebih tinggi dari penjumlahan dan pengurangan.\n",
        "\n",
        "Jadi `2*3-1` adalah `5`, bukan `4`,\n",
        "\n",
        "dan\n",
        "\n",
        "`6+4/2` adalah `8`, bukan `5`."
      ],
      "metadata": {
        "id": "VLswf68NuqkO"
      }
    },
    {
      "cell_type": "code",
      "source": [
        "print(2*3-1)"
      ],
      "metadata": {
        "colab": {
          "base_uri": "https://localhost:8080/"
        },
        "id": "qh0dzSSLuti-",
        "outputId": "e39891ae-5fa8-4792-c00a-7bca578120f6"
      },
      "execution_count": null,
      "outputs": [
        {
          "output_type": "stream",
          "name": "stdout",
          "text": [
            "5\n"
          ]
        }
      ]
    },
    {
      "cell_type": "code",
      "source": [
        "print(10+4/2)"
      ],
      "metadata": {
        "colab": {
          "base_uri": "https://localhost:8080/"
        },
        "id": "fJbal2xsu7RV",
        "outputId": "6b75b149-2797-4ea2-9480-87a3ccd3ae96"
      },
      "execution_count": null,
      "outputs": [
        {
          "output_type": "stream",
          "name": "stdout",
          "text": [
            "12.0\n"
          ]
        }
      ]
    },
    {
      "cell_type": "markdown",
      "source": [
        "**Addition dan Subtraction**"
      ],
      "metadata": {
        "id": "TvYh4T6gvKMS"
      }
    },
    {
      "cell_type": "markdown",
      "source": [
        "\n",
        "Penambahan dan Pengurangan memiliki prioritas paling rendah dibandingkan dengan operator yang lain."
      ],
      "metadata": {
        "id": "laZicgpzvYIO"
      }
    },
    {
      "cell_type": "code",
      "source": [
        "print(4+5+6)"
      ],
      "metadata": {
        "colab": {
          "base_uri": "https://localhost:8080/"
        },
        "id": "eDRlyW_RvPcS",
        "outputId": "f99c56a8-460a-4a2a-c16d-682ee8be5a29"
      },
      "execution_count": null,
      "outputs": [
        {
          "output_type": "stream",
          "name": "stdout",
          "text": [
            "15\n"
          ]
        }
      ]
    },
    {
      "cell_type": "code",
      "source": [
        "print(10-5-1)"
      ],
      "metadata": {
        "colab": {
          "base_uri": "https://localhost:8080/"
        },
        "id": "EQ_Xng0rveG_",
        "outputId": "878f4648-542c-4561-b8f4-4eea4a3241d1"
      },
      "execution_count": null,
      "outputs": [
        {
          "output_type": "stream",
          "name": "stdout",
          "text": [
            "4\n"
          ]
        }
      ]
    },
    {
      "cell_type": "markdown",
      "source": [
        "Jika ada operasi yang memiliki prioritas yang sama maka evaluasi dilakukan dari **kiri** ke kanan"
      ],
      "metadata": {
        "id": "OJmSnXzAvosv"
      }
    },
    {
      "cell_type": "code",
      "source": [
        "print(4*6/8*3)"
      ],
      "metadata": {
        "colab": {
          "base_uri": "https://localhost:8080/"
        },
        "id": "MJrn0L-NvhZ2",
        "outputId": "6ab64b69-6a71-4a94-9752-452c39ac7821"
      },
      "execution_count": null,
      "outputs": [
        {
          "output_type": "stream",
          "name": "stdout",
          "text": [
            "9.0\n"
          ]
        }
      ]
    },
    {
      "cell_type": "markdown",
      "source": [
        "Coba hitung operasi `6*12/4`  dengan variabel dibawah"
      ],
      "metadata": {
        "id": "fGTuuAwZv2Ks"
      }
    },
    {
      "cell_type": "code",
      "source": [
        "rank_1 = 6\n",
        "rank_2 = 4\n",
        "rank_3 = 12\n",
        "print(rank_1*rank_3/rank_2)"
      ],
      "metadata": {
        "colab": {
          "base_uri": "https://localhost:8080/"
        },
        "id": "-sw6wa2xv1li",
        "outputId": "298f9b0b-9af6-4f15-aa2c-95e231b5be49"
      },
      "execution_count": null,
      "outputs": [
        {
          "output_type": "stream",
          "name": "stdout",
          "text": [
            "18.0\n"
          ]
        }
      ]
    },
    {
      "cell_type": "markdown",
      "source": [
        "**Exercise**"
      ],
      "metadata": {
        "id": "JV85j3AfwUv_"
      }
    },
    {
      "cell_type": "markdown",
      "source": [
        "Pak Bambang menabung dibank sebesar Rp 10.000.000. Jika persentase bunga per tahun sebesar 5%,\n",
        "berapa besar bunga yang diterima Pak Bambang setelah 5 tahun menabung?\n",
        "\n",
        "**hint: Besar_bunga = Lama_menabung x persentase_bunga x besar_tabungan**"
      ],
      "metadata": {
        "id": "mjYAIHtMwgNR"
      }
    },
    {
      "cell_type": "code",
      "source": [
        "besar_tabungan = 10_000000\n",
        "persentase_bunga = 5/100\n",
        "lama_menabung = 5\n",
        "besar_bunga = lama_menabung*persentase_bunga*besar_tabungan\n",
        "print(besar_bunga)"
      ],
      "metadata": {
        "colab": {
          "base_uri": "https://localhost:8080/"
        },
        "id": "VORJuBwEwXIS",
        "outputId": "51b2c472-4a97-41bd-ae6d-6ef4cd9bb602"
      },
      "execution_count": null,
      "outputs": [
        {
          "output_type": "stream",
          "name": "stdout",
          "text": [
            "2500000.0\n"
          ]
        }
      ]
    },
    {
      "cell_type": "markdown",
      "source": [
        "Ibu Mega sedang berbelanja ke toko buah untuk acara arisan. Beliau membeli buah Jeruk sebanyak 1 kg, buah Rambutan 2 kg, Semangka 2 buah yang beratnya masing-masing 4.2 kg dan 4.5 kg. Jika harga Jeruk Rp 22000 per kg, Rambutan Rp 20000 per kg, Semangka Rp 4000 per kg. Ternyata toko memberikan diskon sebesar 20% dari harga total pembelian. Berapakah total harga belanjaan Ibu Mega?"
      ],
      "metadata": {
        "id": "QotiOq-WxjWP"
      }
    },
    {
      "cell_type": "code",
      "source": [
        "# Hitung masing - masing harga buah\n",
        "\n",
        "jeruk = 1*22_000\n",
        "rambutan = 2*20_000\n",
        "semangka = (4.2+4.5) * 4_000\n",
        "\n",
        "# Hitung total harga belanjaan\n",
        "\n",
        "total_belanja = jeruk + rambutan + semangka\n",
        "\n",
        "# Diskon\n",
        "\n",
        "diskon = 20/100\n",
        "\n",
        "# Total belanja setelah didiskon\n",
        "\n",
        "total_setelah_diskon = total_belanja*diskon\n",
        "\n",
        "print(total_setelah_diskon)"
      ],
      "metadata": {
        "colab": {
          "base_uri": "https://localhost:8080/"
        },
        "id": "_iJWWiVuxjBA",
        "outputId": "48e17f28-6a37-4af1-d500-66bf1f8164d9"
      },
      "execution_count": null,
      "outputs": [
        {
          "output_type": "stream",
          "name": "stdout",
          "text": [
            "19360.0\n"
          ]
        }
      ]
    }
  ]
}